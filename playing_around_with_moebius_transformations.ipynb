{
 "cells": [
  {
   "cell_type": "markdown",
   "metadata": {},
   "source": [
    "In the following, we experiment with aDM-identifiability of conformal maps."
   ]
  },
  {
   "cell_type": "code",
   "execution_count": 38,
   "metadata": {},
   "outputs": [],
   "source": [
    "from jax import numpy as np\n",
    "from jax import random\n",
    "\n",
    "import numpy as onp"
   ]
  },
  {
   "cell_type": "code",
   "execution_count": 39,
   "metadata": {},
   "outputs": [],
   "source": [
    "rng, flow_rng = random.split(random.PRNGKey(0))\n",
    "key = rng"
   ]
  },
  {
   "cell_type": "markdown",
   "metadata": {},
   "source": [
    "0. Generate and plot sources"
   ]
  },
  {
   "cell_type": "code",
   "execution_count": 40,
   "metadata": {},
   "outputs": [],
   "source": [
    "# N:=Number of samples\n",
    "N = 1000\n",
    "# D:=Number of dimensions\n",
    "D = 6\n",
    "\n",
    "# Generate the samples\n",
    "S = random.uniform(key, shape=(N, D), minval=0.0, maxval=1.0)\n",
    "\n",
    "S -= 0.5"
   ]
  },
  {
   "cell_type": "code",
   "execution_count": 41,
   "metadata": {},
   "outputs": [],
   "source": [
    "from plotting import cart2pol, scatterplot_variables\n",
    "\n",
    "_, colors = cart2pol( S[:,0], S[:,1])\n",
    "\n",
    "if D==2:\n",
    "    # Plot the sources\n",
    "    scatterplot_variables(S, 'Sources', colors=colors, savefig=False)"
   ]
  },
  {
   "cell_type": "code",
   "execution_count": 42,
   "metadata": {},
   "outputs": [],
   "source": [
    "# Now we need to implement Möbius transformations in D>2"
   ]
  },
  {
   "cell_type": "code",
   "execution_count": 43,
   "metadata": {},
   "outputs": [],
   "source": [
    "from mixing_functions import build_moebius_transform"
   ]
  },
  {
   "cell_type": "code",
   "execution_count": 44,
   "metadata": {},
   "outputs": [],
   "source": [
    "# Generate a random orthogonal matrix\n",
    "from scipy.stats import ortho_group # Requires version 0.18 of scipy\n",
    "\n",
    "A = ortho_group.rvs(dim=D)"
   ]
  },
  {
   "cell_type": "code",
   "execution_count": 45,
   "metadata": {},
   "outputs": [],
   "source": [
    "# Scalar\n",
    "alpha = 2.0\n",
    "# Two vectors with data dimensionality\n",
    "a = 2.0 * np.ones(D) # a vector in \\RR^D\n",
    "b = 3.0 * np.ones(D) # a vector in \\RR^D\n",
    "\n",
    "from jax import vmap\n",
    "mixing, _ = build_moebius_transform(alpha, A, a, b, epsilon=2)\n",
    "mixing_batched = vmap(mixing)"
   ]
  },
  {
   "cell_type": "code",
   "execution_count": null,
   "metadata": {},
   "outputs": [],
   "source": []
  },
  {
   "cell_type": "code",
   "execution_count": 46,
   "metadata": {},
   "outputs": [],
   "source": [
    "X = mixing_batched(S)\n",
    "X -= np.mean(X, axis=0)"
   ]
  },
  {
   "cell_type": "code",
   "execution_count": 47,
   "metadata": {},
   "outputs": [
    {
     "data": {
      "text/plain": [
       "(1000, 6)"
      ]
     },
     "execution_count": 47,
     "metadata": {},
     "output_type": "execute_result"
    }
   ],
   "source": [
    "X.shape"
   ]
  },
  {
   "cell_type": "code",
   "execution_count": 48,
   "metadata": {},
   "outputs": [],
   "source": [
    "if D==2:\n",
    "    scatterplot_variables(X, 'Observations', colors=colors, savefig=False)#True, fname=\"observations_flow\")"
   ]
  },
  {
   "cell_type": "markdown",
   "metadata": {},
   "source": [
    "3. Compare aDM of the true and learned solution"
   ]
  },
  {
   "cell_type": "code",
   "execution_count": 49,
   "metadata": {},
   "outputs": [],
   "source": [
    "from metrics import aDM"
   ]
  },
  {
   "cell_type": "code",
   "execution_count": 50,
   "metadata": {},
   "outputs": [],
   "source": [
    "from jax import jacfwd"
   ]
  },
  {
   "cell_type": "code",
   "execution_count": 51,
   "metadata": {},
   "outputs": [],
   "source": [
    "# Compute the batched Jacobian\n",
    "Jmixing = jacfwd(mixing)\n",
    "Jmixing_batched = vmap(Jmixing)\n",
    "# Compute aDM true\n",
    "true_aDM = aDM(Jmixing_batched, S)"
   ]
  },
  {
   "cell_type": "code",
   "execution_count": 52,
   "metadata": {},
   "outputs": [
    {
     "name": "stdout",
     "output_type": "stream",
     "text": [
      "-1.4305114e-08\n"
     ]
    }
   ],
   "source": [
    "print(true_aDM)"
   ]
  },
  {
   "cell_type": "markdown",
   "metadata": {},
   "source": [
    "4. Plot reconstructed variables"
   ]
  },
  {
   "cell_type": "code",
   "execution_count": 53,
   "metadata": {},
   "outputs": [],
   "source": [
    "# scatterplot_variables(Y, 'Reconstructed', colors=colors, savefig=False)#, fname=\"Reconstructed_flow\")"
   ]
  },
  {
   "cell_type": "markdown",
   "metadata": {},
   "source": [
    "6. Compare Jacobians of the learned transformation and of the true mixing"
   ]
  },
  {
   "cell_type": "code",
   "execution_count": 54,
   "metadata": {},
   "outputs": [
    {
     "name": "stdout",
     "output_type": "stream",
     "text": [
      "[[ 0.04637941  0.01826954  0.0182267   0.02885225  0.04194881  0.0305019 ]\n",
      " [-0.02928578 -0.02406408  0.03826185  0.02089188 -0.02654018  0.05106493]\n",
      " [-0.00249649  0.00964402 -0.01401388  0.07073212 -0.02416766 -0.02796493]\n",
      " [-0.05119894  0.00178848 -0.03419571  0.01443067  0.04889013  0.0166216 ]\n",
      " [-0.03053699  0.03641513  0.05526886 -0.00211054  0.01693173 -0.03222139]\n",
      " [ 0.00588498 -0.06529867  0.01970942  0.01092081  0.02969036 -0.03104408]]\n"
     ]
    }
   ],
   "source": [
    "# Average Jacobian of the true solution\n",
    "ave_jac_true = np.mean(Jmixing_batched(S), axis=0)\n",
    "print(ave_jac_true)"
   ]
  },
  {
   "cell_type": "code",
   "execution_count": 55,
   "metadata": {},
   "outputs": [
    {
     "data": {
      "image/png": "[encoded data removed]",
      "text/plain": [
       "<Figure size 432x288 with 2 Axes>"
      ]
     },
     "metadata": {
      "needs_background": "light"
     },
     "output_type": "display_data"
    }
   ],
   "source": [
    "import matplotlib.pyplot as plt\n",
    "\n",
    "f, ax = plt.subplots(1, 1)\n",
    "plt.suptitle('Jacobian of true mixing')\n",
    "m = np.max(np.abs(ave_jac_true))\n",
    "im = ax.matshow(ave_jac_true, vmin=-m, vmax=m)\n",
    "f.colorbar(im)\n",
    "plt.show()"
   ]
  },
  {
   "cell_type": "code",
   "execution_count": null,
   "metadata": {},
   "outputs": [],
   "source": []
  }
 ],
 "metadata": {
  "kernelspec": {
   "display_name": "Python 3",
   "language": "python",
   "name": "python3"
  },
  "language_info": {
   "codemirror_mode": {
    "name": "ipython",
    "version": 3
   },
   "file_extension": ".py",
   "mimetype": "text/x-python",
   "name": "python",
   "nbconvert_exporter": "python",
   "pygments_lexer": "ipython3",
   "version": "3.8.5"
  }
 },
 "nbformat": 4,
 "nbformat_minor": 4
}
