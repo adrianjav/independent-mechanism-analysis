{
 "cells": [
  {
   "cell_type": "markdown",
   "id": "42e39330",
   "metadata": {},
   "source": [
    "# Residual Flow model with triangular Jacobian"
   ]
  },
  {
   "cell_type": "code",
   "execution_count": null,
   "id": "1f3e9a3c",
   "metadata": {},
   "outputs": [],
   "source": [
    "import jax\n",
    "from jax import numpy as jnp\n",
    "import numpy as np\n",
    "import distrax\n",
    "import haiku as hk\n",
    "from residual import TriangularResidual, spectral_norm_init, spectral_normalization, masks_triangular_weights, make_weights_triangular, LipSwish\n",
    "\n",
    "from jax.experimental.optimizers import adam"
   ]
  },
  {
   "cell_type": "code",
   "execution_count": null,
   "id": "970a7b49",
   "metadata": {},
   "outputs": [],
   "source": [
    "key = jax.random.PRNGKey(1)"
   ]
  },
  {
   "cell_type": "markdown",
   "id": "108ec35a",
   "metadata": {},
   "source": [
    "## Generate data"
   ]
  },
  {
   "cell_type": "code",
   "execution_count": null,
   "id": "702cc26a",
   "metadata": {},
   "outputs": [],
   "source": [
    "# N:=Number of samples\n",
    "N = 3000\n",
    "# D:=Number of dimensions\n",
    "D = 2\n",
    "\n",
    "# Generate the samples\n",
    "S = jax.random.uniform(key, shape=(N, D), minval=0.0, maxval=1.0)\n",
    "\n",
    "S -= 0.5\n",
    "\n",
    "\n",
    "from plotting import cart2pol, scatterplot_variables\n",
    "\n",
    "_, colors = cart2pol( S[:,0], S[:,1])\n",
    "\n",
    "# Plot the sources\n",
    "scatterplot_variables(S, 'Sources', colors=colors, savefig=False)"
   ]
  },
  {
   "cell_type": "code",
   "execution_count": null,
   "id": "45f31ff1",
   "metadata": {},
   "outputs": [],
   "source": [
    "from mixing_functions import build_conformal_map\n",
    "\n",
    "nonlinearity = lambda x : jnp.exp(1.3*x)\n",
    "\n",
    "mixing, mixing_gridplot = build_conformal_map(nonlinearity)\n",
    "\n",
    "from jax import vmap\n",
    "\n",
    "mixing_batched = vmap(mixing)\n",
    "\n",
    "X = mixing_batched(S)\n",
    "X -= jnp.mean(X, axis=0)\n",
    "X /= jnp.std(X, axis=0)\n",
    "\n",
    "scatterplot_variables(X, 'Observations', colors=colors, savefig=False)#True, fname=\"observations_flow\")"
   ]
  },
  {
   "cell_type": "markdown",
   "id": "9f6fd112",
   "metadata": {},
   "source": [
    "## Set up model"
   ]
  },
  {
   "cell_type": "code",
   "execution_count": null,
   "id": "76346219",
   "metadata": {
    "scrolled": false
   },
   "outputs": [],
   "source": [
    "n_layers = 32\n",
    "hidden_units = [128, 128]\n",
    "\n",
    "def log_prob(x):\n",
    "    base_dist = distrax.Independent(distrax.Normal(loc=jnp.zeros(2), scale=jnp.ones(2)),\n",
    "                                                    reinterpreted_batch_ndims=1)\n",
    "    flows = distrax.Chain([TriangularResidual(hidden_units + [2], name='residual_' + str(i))\n",
    "                           for i in range(n_layers)])\n",
    "    model = distrax.Transformed(base_dist, flows)\n",
    "    return model.log_prob(x)\n",
    "\n",
    "# Init model\n",
    "logp = hk.transform(log_prob)\n",
    "params = logp.init(key, jnp.array(np.random.randn(5, 2)))\n",
    "\n",
    "# Make triangular\n",
    "masks = masks_triangular_weights([h // 2 for h in hidden_units])\n",
    "params = make_weights_triangular(params, masks)\n",
    "\n",
    "# Apply spectral normalization\n",
    "uv = spectral_norm_init(params, key)\n",
    "params, uv = spectral_normalization(params, uv)"
   ]
  },
  {
   "cell_type": "code",
   "execution_count": null,
   "id": "e904dd4d",
   "metadata": {},
   "outputs": [],
   "source": [
    "def loss(params, x):\n",
    "    ll = logp.apply(params, None, x)\n",
    "    return -jnp.mean(ll)"
   ]
  },
  {
   "cell_type": "markdown",
   "id": "07dcf491",
   "metadata": {},
   "source": [
    "## Model training"
   ]
  },
  {
   "cell_type": "code",
   "execution_count": null,
   "id": "809f2377",
   "metadata": {},
   "outputs": [],
   "source": [
    "opt_init, opt_update, get_params = adam(step_size=1e-3)\n",
    "\n",
    "@jax.jit\n",
    "def step(it, opt_state, uv, x):\n",
    "    params = get_params(opt_state)\n",
    "    params = make_weights_triangular(params, masks) # makes Jacobian triangular\n",
    "    params, uv = spectral_normalization(params, uv)\n",
    "    params_flat = jax.tree_util.tree_flatten(params)[0]\n",
    "    for ind in range(len(params_flat)):\n",
    "        opt_state.packed_state[ind][0] = params_flat[ind]\n",
    "    value, grads = jax.value_and_grad(loss, 0)(params, x)\n",
    "    opt_out = opt_update(it, grads, opt_state)\n",
    "    return value, opt_out, uv"
   ]
  },
  {
   "cell_type": "code",
   "execution_count": null,
   "id": "7b1a69eb",
   "metadata": {},
   "outputs": [],
   "source": [
    "iters, batch_size = 50000, 256\n",
    "\n",
    "opt_state = opt_init(params)\n",
    "\n",
    "loss_hist = np.array([])"
   ]
  },
  {
   "cell_type": "code",
   "execution_count": null,
   "id": "14e7c88b",
   "metadata": {
    "scrolled": false
   },
   "outputs": [],
   "source": [
    "for i in range(iters):\n",
    "    x = X[np.random.choice(X.shape[0], batch_size)]\n",
    "    value, opt_state, uv = step(i, opt_state, uv, x)\n",
    "    loss_hist = np.append(loss_hist, value.item())"
   ]
  },
  {
   "cell_type": "code",
   "execution_count": null,
   "id": "3217b8cc",
   "metadata": {},
   "outputs": [],
   "source": [
    "params_final = get_params(opt_state)\n",
    "params_final = make_weights_triangular(params_final, masks)\n",
    "params_final, _ = spectral_normalization(params_final, uv)"
   ]
  },
  {
   "cell_type": "code",
   "execution_count": null,
   "id": "bdb166a3",
   "metadata": {},
   "outputs": [],
   "source": [
    "from matplotlib import pyplot as plt\n",
    "\n",
    "plt.plot(loss_hist)"
   ]
  },
  {
   "cell_type": "code",
   "execution_count": null,
   "id": "038941b5",
   "metadata": {
    "scrolled": false
   },
   "outputs": [],
   "source": [
    "npoints = 300\n",
    "x, y = jnp.linspace(-3., 3., npoints), jnp.linspace(-3., 3., npoints)\n",
    "xx, yy = jnp.meshgrid(x, y)\n",
    "zz = jnp.column_stack([xx.reshape(-1), yy.reshape(-1)])\n",
    "\n",
    "prob = jnp.exp(logp.apply(params_final, None, zz))"
   ]
  },
  {
   "cell_type": "code",
   "execution_count": null,
   "id": "4076db8d",
   "metadata": {},
   "outputs": [],
   "source": [
    "plt.figure(figsize=(15, 15))\n",
    "plt.pcolormesh(np.array(xx), np.array(yy), np.array(prob.reshape(npoints, npoints)))"
   ]
  },
  {
   "cell_type": "code",
   "execution_count": null,
   "id": "8976f187",
   "metadata": {},
   "outputs": [],
   "source": [
    "def inv_map_fn(x):\n",
    "    flows = distrax.Chain([TriangularResidual(hidden_units + [2], name='residual_' + str(i))\n",
    "                           for i in range(n_layers)])\n",
    "    return flows.inverse(x)\n",
    "inv_map = hk.transform(inv_map_fn)"
   ]
  },
  {
   "cell_type": "code",
   "execution_count": null,
   "id": "f1608166",
   "metadata": {},
   "outputs": [],
   "source": [
    "S_rec = inv_map.apply(params_final, None, X)"
   ]
  },
  {
   "cell_type": "code",
   "execution_count": null,
   "id": "33f73a8e",
   "metadata": {},
   "outputs": [],
   "source": [
    "scatterplot_variables(S_rec, 'Sources', colors=colors, savefig=False)"
   ]
  },
  {
   "cell_type": "markdown",
   "id": "2a059a56",
   "metadata": {},
   "source": [
    "## Compute CIMA"
   ]
  },
  {
   "cell_type": "code",
   "execution_count": null,
   "id": "dee39474",
   "metadata": {},
   "outputs": [],
   "source": [
    "def cima(x):\n",
    "    jac_fn = jax.vmap(jax.jacfwd(lambda y: inv_map.apply(params_final, None, y)))\n",
    "    J = jac_fn(x)\n",
    "    detJ = J[:, 0, 0] * J[:, 1, 1] - J[:, 0, 1] * J[:, 1, 0]\n",
    "    out = jnp.sum(jnp.log(jnp.linalg.norm(J, axis=2)), axis=1) - jnp.log(jnp.abs(detJ))\n",
    "    return out"
   ]
  },
  {
   "cell_type": "code",
   "execution_count": null,
   "id": "ac27b61f",
   "metadata": {
    "scrolled": false
   },
   "outputs": [],
   "source": [
    "c = cima(X)"
   ]
  },
  {
   "cell_type": "code",
   "execution_count": null,
   "id": "fe34aa4e",
   "metadata": {},
   "outputs": [],
   "source": [
    "jnp.mean(c)"
   ]
  },
  {
   "cell_type": "code",
   "execution_count": null,
   "id": "af66e33f",
   "metadata": {},
   "outputs": [],
   "source": []
  }
 ],
 "metadata": {
  "kernelspec": {
   "display_name": "Python 3",
   "language": "python",
   "name": "python3"
  },
  "language_info": {
   "codemirror_mode": {
    "name": "ipython",
    "version": 3
   },
   "file_extension": ".py",
   "mimetype": "text/x-python",
   "name": "python",
   "nbconvert_exporter": "python",
   "pygments_lexer": "ipython3",
   "version": "3.8.8"
  }
 },
 "nbformat": 4,
 "nbformat_minor": 5
}
