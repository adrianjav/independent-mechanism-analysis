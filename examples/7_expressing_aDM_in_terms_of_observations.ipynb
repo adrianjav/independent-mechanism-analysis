{
 "cells": [
  {
   "cell_type": "markdown",
   "metadata": {},
   "source": [
    "Checking the expression of the \"inverse aDM\" in 2d."
   ]
  },
  {
   "cell_type": "code",
   "execution_count": 14,
   "metadata": {},
   "outputs": [],
   "source": [
    "import jax\n",
    "from jax import numpy as np\n",
    "from jax import vmap\n",
    "from jax import jacfwd\n",
    "\n",
    "from jax import random\n",
    "key = random.PRNGKey(42)\n",
    "\n",
    "import numpy as onp\n",
    "\n",
    "from metrics import aDM"
   ]
  },
  {
   "cell_type": "code",
   "execution_count": 15,
   "metadata": {},
   "outputs": [],
   "source": [
    "# N:=Number of samples\n",
    "N = 6000\n",
    "# D:=Number of dimensions\n",
    "D = 2\n",
    "\n",
    "# Generate the samples\n",
    "S = random.uniform(key, shape=(N, D), minval=0.0, maxval=1.0)"
   ]
  },
  {
   "cell_type": "code",
   "execution_count": 30,
   "metadata": {},
   "outputs": [],
   "source": [
    "key+=1"
   ]
  },
  {
   "cell_type": "code",
   "execution_count": 31,
   "metadata": {},
   "outputs": [],
   "source": [
    "# Let's use the post nonlinear model\n",
    "from mixing_functions import post_nonlinear_model\n",
    "\n",
    "A = random.multivariate_normal(key, mean=np.zeros(D*2), cov=np.eye(D*2)).reshape(2,2)\n",
    "\n",
    "f, g = post_nonlinear_model(A, nonlinearity='cube')"
   ]
  },
  {
   "cell_type": "code",
   "execution_count": 32,
   "metadata": {},
   "outputs": [],
   "source": [
    "f_batched = vmap(f)\n",
    "X = f_batched(S)"
   ]
  },
  {
   "cell_type": "code",
   "execution_count": 33,
   "metadata": {},
   "outputs": [],
   "source": [
    "Jf, Jg = jacfwd(f), jacfwd(g)\n",
    "Jf_batched, Jg_batched = vmap(Jf), vmap(Jg)"
   ]
  },
  {
   "cell_type": "code",
   "execution_count": 34,
   "metadata": {},
   "outputs": [
    {
     "data": {
      "text/plain": [
       "DeviceArray(2.8009524, dtype=float32)"
      ]
     },
     "execution_count": 34,
     "metadata": {},
     "output_type": "execute_result"
    }
   ],
   "source": [
    "aDM(Jf_batched, S)"
   ]
  },
  {
   "cell_type": "code",
   "execution_count": 35,
   "metadata": {},
   "outputs": [],
   "source": [
    "def aDM_inverse(Jg, x):\n",
    "    '''\n",
    "    anti Darmois Metric\n",
    "    \n",
    "    Input:\n",
    "    Jg: batched Jacobian (function)\n",
    "    Applied to s, which has shape (N,D), returns a Jacobian with shape (N,D,D)\n",
    "    \n",
    "    x: a collection of samples of observations (=mixed sources), which has shape (N,D)\n",
    "    \n",
    "    Output:\n",
    "    \n",
    "    aDM_inverse metric: a scalar\n",
    "    '''\n",
    "    \n",
    "    # Get shapes and dimensions\n",
    "    N = x.shape[0]\n",
    "    \n",
    "    # Compute the Jacobian\n",
    "    Jacg = Jg(x)\n",
    "\n",
    "    # Compute the norm of its rows\n",
    "    grad_norms = np.linalg.norm(Jacg, axis=2)\n",
    "#     # Compute the norm of its columns\n",
    "#     grad_norms = np.linalg.norm(Jacf, axis=1)\n",
    "    log_grad_norms = np.log(grad_norms)\n",
    "\n",
    "    # Sum the norms\n",
    "    sum_log_norms = np.sum(log_grad_norms, axis = -1)\n",
    "\n",
    "    # Compute the determinants of the Jacobians\n",
    "    # N.B. Jacf needs to be of shape (..., M, M)\n",
    "    \n",
    "    # Just use slogdet here!\n",
    "    jac_log_dets = np.linalg.slogdet(Jacg)[1]\n",
    "    \n",
    "    return np.sum(sum_log_norms - jac_log_dets)/ N"
   ]
  },
  {
   "cell_type": "code",
   "execution_count": 36,
   "metadata": {},
   "outputs": [
    {
     "data": {
      "text/plain": [
       "DeviceArray(2.8009524, dtype=float32)"
      ]
     },
     "execution_count": 36,
     "metadata": {},
     "output_type": "execute_result"
    }
   ],
   "source": [
    "aDM_inverse(Jg_batched, X)"
   ]
  }
 ],
 "metadata": {
  "kernelspec": {
   "display_name": "Python 3",
   "language": "python",
   "name": "python3"
  },
  "language_info": {
   "codemirror_mode": {
    "name": "ipython",
    "version": 3
   },
   "file_extension": ".py",
   "mimetype": "text/x-python",
   "name": "python",
   "nbconvert_exporter": "python",
   "pygments_lexer": "ipython3",
   "version": "3.8.5"
  }
 },
 "nbformat": 4,
 "nbformat_minor": 4
}
