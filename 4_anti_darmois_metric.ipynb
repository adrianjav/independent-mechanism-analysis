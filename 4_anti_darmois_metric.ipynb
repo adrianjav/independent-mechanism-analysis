{
 "cells": [
  {
   "cell_type": "code",
   "execution_count": 1,
   "metadata": {},
   "outputs": [],
   "source": [
    "# 1. Test the metric by Michel (anti Darmois Metric, aDM);\n",
    "#    1a) Is it 0 for scalars?\n",
    "#    1b) Is it >=0 otherwise?\n",
    "#    1c) Is it =0 for conformal mappings, see: \n",
    "#        https://pypi.org/project/confmap/?\n",
    "#    1d) Test on the closed form Darmois: \n",
    "#        Does the metric attain a higher value for f than for inv_darmois --- i.e.  aDM(inv_darmois)>aDM(f) typically?\n",
    "\n",
    "# 2. It might be that high dimensionality is required to see that, typically, aDM(inv_darmois)>aDM(f) \n",
    "#    --- with f being the true mixing and inv_darmois the inverse of the Darmois construction:\n",
    "#    In that case, in order to numerically check it, we need a differentiable implementation of the Darmois construction in D>2.\n",
    "#    a) Consider whether it can be extended to D>2? \n",
    "#    b) Or whether it makes sense to solve the problem with the differentiable Darmois?"
   ]
  },
  {
   "cell_type": "code",
   "execution_count": 2,
   "metadata": {},
   "outputs": [
    {
     "name": "stderr",
     "output_type": "stream",
     "text": [
      "WARNING:absl:No GPU/TPU found, falling back to CPU. (Set TF_CPP_MIN_LOG_LEVEL=0 and rerun for more info.)\n"
     ]
    }
   ],
   "source": [
    "import jax\n",
    "from jax import numpy as np\n",
    "from jax import vmap\n",
    "from jax import jacfwd\n",
    "\n",
    "from jax import random\n",
    "key = random.PRNGKey(42)\n",
    "\n",
    "import numpy as onp\n",
    "\n",
    "from metrics import aDM"
   ]
  },
  {
   "cell_type": "markdown",
   "metadata": {},
   "source": [
    "Testing the anti-Darmois metric,\n",
    "\n",
    "`insert formula`."
   ]
  },
  {
   "cell_type": "markdown",
   "metadata": {},
   "source": [
    "We generate the sources and keep them fixed throughout our simulations."
   ]
  },
  {
   "cell_type": "code",
   "execution_count": 3,
   "metadata": {},
   "outputs": [],
   "source": [
    "# N:=Number of samples\n",
    "N = 6000\n",
    "# D:=Number of dimensions\n",
    "D = 2\n",
    "\n",
    "# Generate the samples\n",
    "S = random.uniform(key, shape=(N, D), minval=0.0, maxval=1.0)"
   ]
  },
  {
   "cell_type": "markdown",
   "metadata": {},
   "source": [
    "**1a)** Is the metric equal to zero for scalar mixings?"
   ]
  },
  {
   "cell_type": "code",
   "execution_count": 4,
   "metadata": {},
   "outputs": [
    {
     "data": {
      "text/plain": [
       "DeviceArray(0., dtype=float32)"
      ]
     },
     "execution_count": 4,
     "metadata": {},
     "output_type": "execute_result"
    }
   ],
   "source": [
    "from jax.scipy import special\n",
    "\n",
    "def f_scalar(x):\n",
    "    '''\n",
    "    An arbitrary scalar nonlinear transformation\n",
    "    \n",
    "    Input: x: a 2d random variable\n",
    "    \n",
    "    Output: a 2d random variable. \n",
    "    1st component = x[0]**3\n",
    "    2nd component = special.erfinv(x[1]*2.0-1.0)\n",
    "    '''\n",
    "    return np.array([x[0]**3, special.erfinv(x[1]*2.0-1.0)])\n",
    "\n",
    "Jf_scalar = jacfwd(f_scalar)\n",
    "Jf_scalar_batched = vmap(Jf_scalar)\n",
    "\n",
    "aDM(Jf_scalar_batched, S)"
   ]
  },
  {
   "cell_type": "markdown",
   "metadata": {},
   "source": [
    "Apparently so."
   ]
  },
  {
   "cell_type": "markdown",
   "metadata": {},
   "source": [
    "**1b)** Is the metric >0 otherwise?\n",
    "\n",
    "Hard to check in general, let's see for the three mixing from Aapo's paper."
   ]
  },
  {
   "cell_type": "code",
   "execution_count": 5,
   "metadata": {},
   "outputs": [],
   "source": [
    "from mixing_functions import f_1, f_2, f_3"
   ]
  },
  {
   "cell_type": "code",
   "execution_count": 6,
   "metadata": {},
   "outputs": [],
   "source": [
    "Jf_1, Jf_2, Jf_3 = jacfwd(f_1), jacfwd(f_2), jacfwd(f_3)\n",
    "Jf_1_batched, Jf_2_batched, Jf_3_batched = vmap(Jf_1), vmap(Jf_2), vmap(Jf_3)"
   ]
  },
  {
   "cell_type": "code",
   "execution_count": 7,
   "metadata": {},
   "outputs": [
    {
     "data": {
      "text/plain": [
       "DeviceArray(0.09358136, dtype=float32)"
      ]
     },
     "execution_count": 7,
     "metadata": {},
     "output_type": "execute_result"
    }
   ],
   "source": [
    "aDM(Jf_1_batched, S)"
   ]
  },
  {
   "cell_type": "code",
   "execution_count": 8,
   "metadata": {},
   "outputs": [
    {
     "data": {
      "text/plain": [
       "DeviceArray(0.7167423, dtype=float32)"
      ]
     },
     "execution_count": 8,
     "metadata": {},
     "output_type": "execute_result"
    }
   ],
   "source": [
    "aDM(Jf_2_batched, S)"
   ]
  },
  {
   "cell_type": "code",
   "execution_count": 9,
   "metadata": {},
   "outputs": [
    {
     "data": {
      "text/plain": [
       "DeviceArray(1.0244665, dtype=float32)"
      ]
     },
     "execution_count": 9,
     "metadata": {},
     "output_type": "execute_result"
    }
   ],
   "source": [
    "aDM(Jf_3_batched, S)"
   ]
  },
  {
   "cell_type": "markdown",
   "metadata": {},
   "source": [
    "Apparently so.\n",
    "\n",
    "It also look like the more nonlinear the function, the higher the value of **aDM**."
   ]
  },
  {
   "cell_type": "markdown",
   "metadata": {},
   "source": [
    "**1c)** Is the metric =0 for conformal mappings?"
   ]
  },
  {
   "cell_type": "code",
   "execution_count": 10,
   "metadata": {},
   "outputs": [],
   "source": [
    "# How can I generate a random conformal mapping? See link below?\n",
    "# https://pypi.org/project/confmap/"
   ]
  },
  {
   "cell_type": "markdown",
   "metadata": {},
   "source": [
    "**1d)** Test it on the closed form Darmois.\n",
    "\n",
    "For now limited to 2d."
   ]
  },
  {
   "cell_type": "code",
   "execution_count": 11,
   "metadata": {},
   "outputs": [
    {
     "name": "stdout",
     "output_type": "stream",
     "text": [
      "0.3566666666666667\n"
     ]
    }
   ],
   "source": [
    "# True mixing\n",
    "from mixing_functions import f_g_unl\n",
    "\n",
    "# Darmois construction\n",
    "from mixing_functions import darmois_linear_gaussian\n",
    "\n",
    "from scipy.stats import ortho_group\n",
    "\n",
    "reps = 3*10**2\n",
    "\n",
    "# Accumulate metric values for histogram\n",
    "true_aDM_s = onp.zeros(reps)\n",
    "inv_darmois_aDM_s = onp.zeros(reps)\n",
    "\n",
    "\n",
    "# How many times do we \"spot\" the Darmois construction?\n",
    "positive = 0\n",
    "\n",
    "for i in range(reps):\n",
    "    \n",
    "    # Generate mixing\n",
    "    A = random.multivariate_normal(key, mean=np.zeros(D*2), cov=np.eye(D*2)).reshape(2,2)\n",
    "#     A = ortho_group.rvs(dim=2)\n",
    "    \n",
    "    f_unl, _ = f_g_unl(A)\n",
    "    f_unl_batched = vmap(f_unl)\n",
    "    \n",
    "    X = f_unl_batched(S)\n",
    "    \n",
    "    # Compute the batched Jacobian\n",
    "    Jf_unl = jacfwd(f_unl)\n",
    "    Jf_unl_batched = vmap(Jf_unl)\n",
    "    # Compute aDM true\n",
    "    true_aDM = aDM(Jf_unl_batched, S)\n",
    "\n",
    "    # Build Darmois\n",
    "    darmois_single, inv_darmois_single = darmois_linear_gaussian(A)\n",
    "    darmois, inv_darmois = vmap(darmois_single), vmap(inv_darmois_single)\n",
    "\n",
    "    # Sources w. Darmois construction\n",
    "    Y = darmois(X)\n",
    "\n",
    "    # Compute the batched Jacobian\n",
    "    Jinv_darmois = jacfwd(inv_darmois_single)\n",
    "    Jinv_darmois_batched = vmap(Jinv_darmois)\n",
    "    # Compute aDM for inv Darmois\n",
    "    inv_darmois_aDM = aDM(Jinv_darmois_batched, Y)\n",
    "    \n",
    "    # Update random key\n",
    "    key+=1\n",
    "    \n",
    "    true_aDM_s[i] = true_aDM\n",
    "    inv_darmois_aDM_s[i] = inv_darmois_aDM\n",
    "    \n",
    "    if true_aDM < inv_darmois_aDM:\n",
    "        positive+=1\n",
    "        \n",
    "print(positive/reps)"
   ]
  },
  {
   "cell_type": "code",
   "execution_count": 12,
   "metadata": {},
   "outputs": [
    {
     "name": "stdout",
     "output_type": "stream",
     "text": [
      "7.504423\n",
      "2.6588364\n"
     ]
    },
    {
     "data": {
      "image/png": "[encoded data removed]",
      "text/plain": [
       "<Figure size 432x288 with 1 Axes>"
      ]
     },
     "metadata": {
      "needs_background": "light"
     },
     "output_type": "display_data"
    }
   ],
   "source": [
    "import matplotlib.pyplot as plt\n",
    "\n",
    "from plotting import plot_histograms\n",
    "\n",
    "plot_histograms([true_aDM_s, inv_darmois_aDM_s],\n",
    "               ['True', 'Inverse Darmois'],\n",
    "               'aDM')\n",
    "\n",
    "print(np.max(true_aDM_s))\n",
    "print(np.max(inv_darmois_aDM_s))"
   ]
  },
  {
   "cell_type": "code",
   "execution_count": null,
   "metadata": {},
   "outputs": [],
   "source": []
  },
  {
   "cell_type": "code",
   "execution_count": null,
   "metadata": {},
   "outputs": [],
   "source": []
  },
  {
   "cell_type": "markdown",
   "metadata": {},
   "source": [
    "**1d)** **Is the metric invariant to scalar reparametrisation?**\n",
    "And how does it change as $D$ grows?"
   ]
  },
  {
   "cell_type": "markdown",
   "metadata": {},
   "source": [
    "Maybe try to replicate the above for different dimensions and see whether it drops as $D$ grows?"
   ]
  },
  {
   "cell_type": "markdown",
   "metadata": {},
   "source": [
    "(Only for the true mixing for now; we at the moment don't have the closed form Darmois for $D>2$)."
   ]
  },
  {
   "cell_type": "code",
   "execution_count": 18,
   "metadata": {},
   "outputs": [],
   "source": [
    "# N:=Number of samples\n",
    "N = 6000\n",
    "# D:=Number of dimensions\n",
    "Dims = [2, 10, 20, 40, 50]"
   ]
  },
  {
   "cell_type": "code",
   "execution_count": 14,
   "metadata": {},
   "outputs": [],
   "source": [
    "# True mixing\n",
    "from mixing_functions import f_g_unl, f_lin\n",
    "\n",
    "# Darmois construction\n",
    "from mixing_functions import darmois_linear_gaussian\n",
    "\n",
    "from scipy.stats import ortho_group\n",
    "\n",
    "reps = 3*10**2\n",
    "\n",
    "# Accumulate metric values for histograms\n",
    "true_aDM_s_lin = onp.zeros((reps, len(Dims)))\n",
    "true_aDM_s_unl = onp.zeros((reps, len(Dims)))"
   ]
  },
  {
   "cell_type": "code",
   "execution_count": 15,
   "metadata": {},
   "outputs": [
    {
     "name": "stdout",
     "output_type": "stream",
     "text": [
      "Dimension = 2\n",
      "Dimension = 10\n",
      "Dimension = 20\n",
      "Dimension = 40\n",
      "Dimension = 50\n"
     ]
    }
   ],
   "source": [
    "# How many times do we \"spot\" the Darmois construction?\n",
    "# positive = onp.zeros(len(Dims))\n",
    "\n",
    "for idx, Dim in enumerate(Dims):\n",
    "    # Generate the samples\n",
    "    S = random.uniform(key, shape=(N, Dim), minval=0.0, maxval=1.0)\n",
    "    S_normal = special.erfinv(S*2.0-1.0)\n",
    "    for i in range(reps):\n",
    "\n",
    "        # Generate mixing\n",
    "        A = random.multivariate_normal(key, mean=np.zeros(Dim*Dim), cov=np.eye(Dim*Dim)).reshape(Dim,Dim)\n",
    "#         A = ortho_group.rvs(dim=Dim)\n",
    "\n",
    "        # Linear mixing      \n",
    "        f, _ = f_lin(A)\n",
    "        f_batched = vmap(f)\n",
    "\n",
    "        # Compute the batched Jacobian\n",
    "        Jf = jacfwd(f)\n",
    "        Jf_batched = vmap(Jf)\n",
    "        # Compute aDM\n",
    "        # NOTE THAT THIS HAS TO BE APPLIED TO S_normal\n",
    "        true_aDM_lin = aDM(Jf_batched, S_normal)\n",
    "\n",
    "\n",
    "        # Nonlinear mixing (uniform to normal then linearly mixed)\n",
    "        f, _ = f_g_unl(A)\n",
    "        f_batched = vmap(f)\n",
    "    \n",
    "        # Compute the batched Jacobian\n",
    "        Jf = jacfwd(f)\n",
    "        Jf_batched = vmap(Jf)\n",
    "        # Compute aDM\n",
    "        # NOTE THAT THIS HAS TO BE APPLIED TO THE UNIFORM R.V.'s S\n",
    "        true_aDM_unl = aDM(Jf_batched, S)\n",
    "        \n",
    "        # Update random key\n",
    "        key+=1\n",
    "\n",
    "        true_aDM_s_lin[i, idx] = true_aDM_lin\n",
    "        true_aDM_s_unl[i, idx] = true_aDM_unl\n",
    "        \n",
    "    print(\"Dimension =\", Dim)"
   ]
  },
  {
   "cell_type": "code",
   "execution_count": 16,
   "metadata": {},
   "outputs": [
    {
     "name": "stdout",
     "output_type": "stream",
     "text": [
      "32.60223\n"
     ]
    },
    {
     "data": {
      "image/png": "[encoded data removed]",
      "text/plain": [
       "<Figure size 432x288 with 1 Axes>"
      ]
     },
     "metadata": {
      "needs_background": "light"
     },
     "output_type": "display_data"
    }
   ],
   "source": [
    "hist_values = [true_aDM_s_lin[:, i] for i in range(len(Dims))]\n",
    "labels = [str(a)+\"-d data\" for a in Dims]\n",
    "\n",
    "plot_histograms(hist_values,\n",
    "               labels,\n",
    "               'aDM')\n",
    "\n",
    "print(np.max(true_aDM_s_lin))"
   ]
  },
  {
   "cell_type": "code",
   "execution_count": 17,
   "metadata": {},
   "outputs": [
    {
     "name": "stdout",
     "output_type": "stream",
     "text": [
      "32.602352\n"
     ]
    },
    {
     "data": {
      "image/png": "[encoded data removed]",
      "text/plain": [
       "<Figure size 432x288 with 1 Axes>"
      ]
     },
     "metadata": {
      "needs_background": "light"
     },
     "output_type": "display_data"
    }
   ],
   "source": [
    "hist_values = [true_aDM_s_unl[:, i] for i in range(len(Dims))]\n",
    "labels = [str(a)+\"-d data\" for a in Dims]\n",
    "\n",
    "plot_histograms(hist_values,\n",
    "               labels,\n",
    "               'aDM')\n",
    "\n",
    "\n",
    "print(np.max(true_aDM_s_unl))"
   ]
  },
  {
   "cell_type": "markdown",
   "metadata": {},
   "source": [
    "The metric appears to be invariant to scalar reparametrization of the random variables, and it appears to grow as the dimensionality of the sources grows."
   ]
  },
  {
   "cell_type": "code",
   "execution_count": null,
   "metadata": {},
   "outputs": [],
   "source": []
  }
 ],
 "metadata": {
  "kernelspec": {
   "display_name": "Python 3",
   "language": "python",
   "name": "python3"
  },
  "language_info": {
   "codemirror_mode": {
    "name": "ipython",
    "version": 3
   },
   "file_extension": ".py",
   "mimetype": "text/x-python",
   "name": "python",
   "nbconvert_exporter": "python",
   "pygments_lexer": "ipython3",
   "version": "3.8.5"
  }
 },
 "nbformat": 4,
 "nbformat_minor": 4
}
