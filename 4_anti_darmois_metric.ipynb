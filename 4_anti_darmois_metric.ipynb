{
 "cells": [
  {
   "cell_type": "code",
   "execution_count": 1,
   "metadata": {},
   "outputs": [],
   "source": [
    "# 1. Test the metric by Michel (anti Darmois Metric, aDM);\n",
    "\n",
    "# 2. Test on the closed form Darmois: \n",
    "# 2a) Is it 0 for scalars?\n",
    "# 2b) Is it >=0 otherwise?\n",
    "# 2c) Is it =0 for conformal mappings, see: \n",
    "#     https://pypi.org/project/confmap/?\n",
    "# 2d) Does the metric attain a higher value for f than for inv_darmois --- i.e.  aDM(inv_darmois)>aDM(f) typically?\n",
    "\n",
    "# 3. It might be that high dimensionality is required to see that, typically, aDM(inv_darmois)>aDM(f) \n",
    "#    --- with f being the true mixing and inv_darmois the inverse of the Darmois construction:\n",
    "#    In that case, in order to numerically check it, we need a differentiable implementation of the Darmois construction in D>2.\n",
    "#    a) Consider whether it can be extended to D>2? \n",
    "#    b) Or whether it makes sense to solve the problem with the differentiable Darmois?"
   ]
  },
  {
   "cell_type": "code",
   "execution_count": 2,
   "metadata": {},
   "outputs": [
    {
     "name": "stderr",
     "output_type": "stream",
     "text": [
      "WARNING:absl:No GPU/TPU found, falling back to CPU. (Set TF_CPP_MIN_LOG_LEVEL=0 and rerun for more info.)\n"
     ]
    }
   ],
   "source": [
    "import jax\n",
    "from jax import numpy as np\n",
    "from jax import vmap\n",
    "from jax import jacfwd\n",
    "\n",
    "from jax import random\n",
    "key = random.PRNGKey(42)\n",
    "\n",
    "import numpy as onp\n",
    "\n",
    "from metrics import aDM"
   ]
  },
  {
   "cell_type": "code",
   "execution_count": 3,
   "metadata": {},
   "outputs": [],
   "source": [
    "# Let's make a first try with the closed form Darmois construction"
   ]
  },
  {
   "cell_type": "code",
   "execution_count": 4,
   "metadata": {},
   "outputs": [],
   "source": [
    "# N:=Number of samples\n",
    "N = 6000\n",
    "# D:=Number of dimensions\n",
    "D = 2\n",
    "\n",
    "# Generate t\n",
    "S = random.uniform(key, shape=(N, D), minval=0.0, maxval=1.0)"
   ]
  },
  {
   "cell_type": "code",
   "execution_count": 5,
   "metadata": {},
   "outputs": [
    {
     "name": "stdout",
     "output_type": "stream",
     "text": [
      "0.3566666666666667\n"
     ]
    }
   ],
   "source": [
    "# True mixing\n",
    "from mixing_functions import f_g_unl\n",
    "\n",
    "# Darmois construction\n",
    "from mixing_functions import darmois_linear_gaussian\n",
    "\n",
    "from scipy.stats import ortho_group\n",
    "\n",
    "reps = 3*10**2\n",
    "\n",
    "# Accumulate metric values for histogram\n",
    "true_aDM_s = onp.zeros(reps)\n",
    "inv_darmois_aDM_s = onp.zeros(reps)\n",
    "\n",
    "\n",
    "# How many times do we \"spot\" the Darmois construction?\n",
    "positive = 0\n",
    "\n",
    "for i in range(reps):\n",
    "    \n",
    "    # Generate mixing\n",
    "    A = random.multivariate_normal(key, mean=np.zeros(D*2), cov=np.eye(D*2)).reshape(2,2)\n",
    "#     A = ortho_group.rvs(dim=2)\n",
    "    \n",
    "    f_unl, _ = f_g_unl(A)\n",
    "    f_unl_batched = vmap(f_unl)\n",
    "    \n",
    "    X = f_unl_batched(S)\n",
    "    \n",
    "    # Compute the batched Jacobian\n",
    "    Jf_unl = jacfwd(f_unl)\n",
    "    Jf_unl_batched = vmap(Jf_unl)\n",
    "    # Compute aDM true\n",
    "    true_aDM = aDM(Jf_unl_batched, S)\n",
    "\n",
    "    # Build Darmois\n",
    "    darmois_single, inv_darmois_single = darmois_linear_gaussian(A)\n",
    "    darmois, inv_darmois = vmap(darmois_single), vmap(inv_darmois_single)\n",
    "\n",
    "    # Sources w. Darmois construction\n",
    "    Y = darmois(X)\n",
    "\n",
    "    # Compute the batched Jacobian\n",
    "    Jinv_darmois = jacfwd(inv_darmois_single)\n",
    "    Jinv_darmois_batched = vmap(Jinv_darmois)\n",
    "    # Compute aDM for inv Darmois\n",
    "    inv_darmois_aDM = aDM(Jinv_darmois_batched, Y)\n",
    "    \n",
    "    # Update random key\n",
    "    key+=1\n",
    "    \n",
    "    true_aDM_s[i] = true_aDM\n",
    "    inv_darmois_aDM_s[i] = inv_darmois_aDM\n",
    "    \n",
    "    if true_aDM < inv_darmois_aDM:\n",
    "        positive+=1\n",
    "        \n",
    "print(positive/reps)"
   ]
  },
  {
   "cell_type": "code",
   "execution_count": 6,
   "metadata": {},
   "outputs": [
    {
     "name": "stdout",
     "output_type": "stream",
     "text": [
      "7.504423\n",
      "2.6588364\n"
     ]
    },
    {
     "data": {
      "image/png": "[encoded data removed]",
      "text/plain": [
       "<Figure size 432x288 with 1 Axes>"
      ]
     },
     "metadata": {
      "needs_background": "light"
     },
     "output_type": "display_data"
    }
   ],
   "source": [
    "import matplotlib.pyplot as plt\n",
    "\n",
    "plt.hist([true_aDM_s, inv_darmois_aDM_s], \n",
    "         histtype='step', \n",
    "         density=True, \n",
    "         label=['True', 'Inverse Darmois']\n",
    "        )\n",
    "plt.legend(prop={'size': 10})\n",
    "plt.show\n",
    "\n",
    "print(np.max(true_aDM_s))\n",
    "print(np.max(inv_darmois_aDM_s))"
   ]
  },
  {
   "cell_type": "code",
   "execution_count": null,
   "metadata": {},
   "outputs": [],
   "source": []
  }
 ],
 "metadata": {
  "kernelspec": {
   "display_name": "Python 3",
   "language": "python",
   "name": "python3"
  },
  "language_info": {
   "codemirror_mode": {
    "name": "ipython",
    "version": 3
   },
   "file_extension": ".py",
   "mimetype": "text/x-python",
   "name": "python",
   "nbconvert_exporter": "python",
   "pygments_lexer": "ipython3",
   "version": "3.8.5"
  }
 },
 "nbformat": 4,
 "nbformat_minor": 4
}
