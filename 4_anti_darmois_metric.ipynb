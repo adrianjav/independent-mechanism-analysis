{
 "cells": [
  {
   "cell_type": "code",
   "execution_count": 1,
   "metadata": {},
   "outputs": [],
   "source": [
    "# 1. Test the metric by Michel;\n",
    "\n",
    "# 2. Test on the closed form Darmois: \n",
    "# 2a) Is it 0 for scalars?\n",
    "# 2b) Is it >=0 otherwise?\n",
    "# 2c) Is it =0 for conformal mappings, see https://pypi.org/project/confmap/?\n",
    "# 2d) Does the metric attain a higher value for f than for inv_darmois --- i.e.  mMI(inv_darmois)>mMI(f) typically?\n",
    "\n",
    "# 3. It might be that high dimensionality is required to see that, typically, mMI(inv_darmois)>mMI(f) \n",
    "#    --- with f being the true mixing and inv_darmois the inverse of the Darmois construction:\n",
    "#    In that case, in order to numerically check it, we need a differentiable implementation of the Darmois construction in D>2.\n",
    "#    a) Consider whether it can be extended to D>2? \n",
    "#    b) Or whether it makes sense to solve the problem with the differentiable Darmois?"
   ]
  },
  {
   "cell_type": "code",
   "execution_count": 3,
   "metadata": {},
   "outputs": [],
   "source": [
    "# Maye rename mMI to anti-Darmois?"
   ]
  },
  {
   "cell_type": "code",
   "execution_count": 4,
   "metadata": {},
   "outputs": [],
   "source": [
    "from metrics import mMI"
   ]
  },
  {
   "cell_type": "code",
   "execution_count": null,
   "metadata": {},
   "outputs": [],
   "source": []
  }
 ],
 "metadata": {
  "kernelspec": {
   "display_name": "Python 3",
   "language": "python",
   "name": "python3"
  },
  "language_info": {
   "codemirror_mode": {
    "name": "ipython",
    "version": 3
   },
   "file_extension": ".py",
   "mimetype": "text/x-python",
   "name": "python",
   "nbconvert_exporter": "python",
   "pygments_lexer": "ipython3",
   "version": "3.8.5"
  }
 },
 "nbformat": 4,
 "nbformat_minor": 4
}
