{
 "cells": [
  {
   "cell_type": "markdown",
   "metadata": {},
   "source": [
    "### **Testing the anti-Darmois metric**\n",
    "\n",
    "Test the metric by Michel (anti Darmois Metric, aDM);\n",
    "\n",
    "**1a) Is it $0$ for scalar functions?**\n",
    "\n",
    "**A:** Apparently so.\n",
    "\n",
    "**1b) Is it $\\geq 0$ otherwise?**\n",
    "\n",
    "**A:** Apparently so, although it sometimes gets nonzero (e.g.); I hope it is a numerical error, to be checked.\n",
    "\n",
    "**1c) Test on the closed form Darmois: \n",
    "        Does the metric attain a higher value for the true mixing f than for inv_darmois --- i.e.  aDM(inv_darmois)>aDM(f) typically?**\n",
    "\n",
    "**A:** **Apparently not**. At least in 2d. Why? Investigate!\n",
    "\n",
    "**1d) Is the metric invariant to scalar reparametrisations?**\n",
    "\n",
    "**A:** Apparently so -- again, up to (hopefully) numeric precision.\n",
    "\n",
    "**1e) Is it $=0$ for conformal mappings? See https://pypi.org/project/confmap/?**\n",
    "\n",
    "**A:** **Work in progress!**"
   ]
  },
  {
   "cell_type": "markdown",
   "metadata": {},
   "source": [
    "#### See experiments answering questions 1a to 1d below."
   ]
  },
  {
   "cell_type": "code",
   "execution_count": 1,
   "metadata": {},
   "outputs": [
    {
     "name": "stderr",
     "output_type": "stream",
     "text": [
      "WARNING:absl:No GPU/TPU found, falling back to CPU. (Set TF_CPP_MIN_LOG_LEVEL=0 and rerun for more info.)\n"
     ]
    }
   ],
   "source": [
    "import jax\n",
    "from jax import numpy as np\n",
    "from jax import vmap\n",
    "from jax import jacfwd\n",
    "\n",
    "from jax import random\n",
    "key = random.PRNGKey(42)\n",
    "\n",
    "import numpy as onp\n",
    "\n",
    "from metrics import aDM"
   ]
  },
  {
   "cell_type": "markdown",
   "metadata": {},
   "source": [
    "Testing the anti-Darmois metric,\n",
    "\n",
    "$$\\text{mMI}(\\mathbf{f}, \\mathbf{s}) = \\int \\sum_{i = 1}^D \\log || \\nabla f_i(\\mathbf{s}) ||_2 - \\log | J_\\mathbf{f}(\\mathbf{s})| p(\\mathbf{s}) d\\mathbf{s}$$\n",
    "\n",
    "."
   ]
  },
  {
   "cell_type": "markdown",
   "metadata": {},
   "source": [
    "We generate the sources and keep them fixed throughout our simulations."
   ]
  },
  {
   "cell_type": "code",
   "execution_count": 2,
   "metadata": {},
   "outputs": [],
   "source": [
    "# N:=Number of samples\n",
    "N = 6000\n",
    "# D:=Number of dimensions\n",
    "D = 2\n",
    "\n",
    "# Generate the samples\n",
    "S = random.uniform(key, shape=(N, D), minval=0.0, maxval=1.0)"
   ]
  },
  {
   "cell_type": "markdown",
   "metadata": {},
   "source": [
    "**1a)** Is the metric equal to zero for scalar mixings?"
   ]
  },
  {
   "cell_type": "code",
   "execution_count": 3,
   "metadata": {},
   "outputs": [
    {
     "data": {
      "text/plain": [
       "DeviceArray(0., dtype=float32)"
      ]
     },
     "execution_count": 3,
     "metadata": {},
     "output_type": "execute_result"
    }
   ],
   "source": [
    "from jax.scipy import special\n",
    "\n",
    "def f_scalar(x):\n",
    "    '''\n",
    "    An arbitrary scalar nonlinear transformation\n",
    "    \n",
    "    Input: x: a 2d random variable\n",
    "    \n",
    "    Output: a 2d random variable. \n",
    "    1st component = x[0]**3\n",
    "    2nd component = special.erfinv(x[1]*2.0-1.0)\n",
    "    '''\n",
    "    return np.array([x[0]**3, special.erfinv(x[1]*2.0-1.0)])\n",
    "\n",
    "Jf_scalar = jacfwd(f_scalar)\n",
    "Jf_scalar_batched = vmap(Jf_scalar)\n",
    "\n",
    "aDM(Jf_scalar_batched, S)"
   ]
  },
  {
   "cell_type": "markdown",
   "metadata": {},
   "source": [
    "Apparently so."
   ]
  },
  {
   "cell_type": "markdown",
   "metadata": {},
   "source": [
    "**1b)** Is the metric >0 otherwise?\n",
    "\n",
    "Hard to check in general, let's see for the three mixing from Aapo's paper."
   ]
  },
  {
   "cell_type": "code",
   "execution_count": 4,
   "metadata": {},
   "outputs": [],
   "source": [
    "from mixing_functions import f_1, f_2, f_3"
   ]
  },
  {
   "cell_type": "code",
   "execution_count": 5,
   "metadata": {},
   "outputs": [],
   "source": [
    "Jf_1, Jf_2, Jf_3 = jacfwd(f_1), jacfwd(f_2), jacfwd(f_3)\n",
    "Jf_1_batched, Jf_2_batched, Jf_3_batched = vmap(Jf_1), vmap(Jf_2), vmap(Jf_3)"
   ]
  },
  {
   "cell_type": "code",
   "execution_count": 6,
   "metadata": {},
   "outputs": [
    {
     "data": {
      "text/plain": [
       "DeviceArray(0.09358136, dtype=float32)"
      ]
     },
     "execution_count": 6,
     "metadata": {},
     "output_type": "execute_result"
    }
   ],
   "source": [
    "aDM(Jf_1_batched, S)"
   ]
  },
  {
   "cell_type": "code",
   "execution_count": 7,
   "metadata": {},
   "outputs": [
    {
     "data": {
      "text/plain": [
       "DeviceArray(0.7167423, dtype=float32)"
      ]
     },
     "execution_count": 7,
     "metadata": {},
     "output_type": "execute_result"
    }
   ],
   "source": [
    "aDM(Jf_2_batched, S)"
   ]
  },
  {
   "cell_type": "code",
   "execution_count": 8,
   "metadata": {},
   "outputs": [
    {
     "data": {
      "text/plain": [
       "DeviceArray(1.0244665, dtype=float32)"
      ]
     },
     "execution_count": 8,
     "metadata": {},
     "output_type": "execute_result"
    }
   ],
   "source": [
    "aDM(Jf_3_batched, S)"
   ]
  },
  {
   "cell_type": "markdown",
   "metadata": {},
   "source": [
    "Apparently so.\n",
    "\n",
    "It also look like the more nonlinear the function, the higher the value of **aDM**."
   ]
  },
  {
   "cell_type": "markdown",
   "metadata": {},
   "source": [
    "**1c)** Test it on the closed form Darmois.\n",
    "\n",
    "For now limited to 2d."
   ]
  },
  {
   "cell_type": "code",
   "execution_count": 9,
   "metadata": {},
   "outputs": [
    {
     "name": "stdout",
     "output_type": "stream",
     "text": [
      "0.3433333333333333\n"
     ]
    }
   ],
   "source": [
    "# True mixing\n",
    "from mixing_functions import f_g_unl\n",
    "\n",
    "# Darmois construction\n",
    "from mixing_functions import darmois_linear_gaussian, darmois_linear_gaussian_2d\n",
    "\n",
    "from scipy.stats import ortho_group\n",
    "\n",
    "reps = 3*10**2\n",
    "\n",
    "# Accumulate metric values for histogram\n",
    "true_aDM_s = onp.zeros(reps)\n",
    "inv_darmois_aDM_s = onp.zeros(reps)\n",
    "\n",
    "\n",
    "# How many times do we \"spot\" the Darmois construction?\n",
    "positive = 0\n",
    "\n",
    "for i in range(reps):\n",
    "    \n",
    "    # Generate mixing\n",
    "    A = random.multivariate_normal(key, mean=np.zeros(D*2), cov=np.eye(D*2)).reshape(2,2)\n",
    "#     A = ortho_group.rvs(dim=2)\n",
    "    \n",
    "    f_unl, _ = f_g_unl(A)\n",
    "    f_unl_batched = vmap(f_unl)\n",
    "    \n",
    "    X = f_unl_batched(S)\n",
    "    \n",
    "    # Compute the batched Jacobian\n",
    "    Jf_unl = jacfwd(f_unl)\n",
    "    Jf_unl_batched = vmap(Jf_unl)\n",
    "    # Compute aDM true\n",
    "    true_aDM = aDM(Jf_unl_batched, S)\n",
    "\n",
    "    # Build Darmois\n",
    "#     darmois_single, inv_darmois_single = darmois_linear_gaussian_2d(A)\n",
    "    darmois_single, inv_darmois_single = darmois_linear_gaussian(A)\n",
    "    darmois, inv_darmois = vmap(darmois_single), vmap(inv_darmois_single)\n",
    "\n",
    "    # Sources w. Darmois construction\n",
    "    Y = darmois(X)\n",
    "\n",
    "    # Compute the batched Jacobian\n",
    "    Jinv_darmois = jacfwd(inv_darmois_single)\n",
    "    Jinv_darmois_batched = vmap(Jinv_darmois)\n",
    "    # Compute aDM for inv Darmois\n",
    "    inv_darmois_aDM = aDM(Jinv_darmois_batched, Y)\n",
    "    \n",
    "    true_aDM_s[i] = true_aDM\n",
    "    inv_darmois_aDM_s[i] = inv_darmois_aDM\n",
    "    \n",
    "    if true_aDM < inv_darmois_aDM:\n",
    "        positive+=1\n",
    "    \n",
    "    # Update random key\n",
    "    key+=1\n",
    "        \n",
    "print(positive/reps)"
   ]
  },
  {
   "cell_type": "code",
   "execution_count": 10,
   "metadata": {},
   "outputs": [
    {
     "name": "stdout",
     "output_type": "stream",
     "text": [
      "7.504423\n",
      "2.5137627\n"
     ]
    },
    {
     "data": {
      "image/png": "[encoded data removed]",
      "text/plain": [
       "<Figure size 432x288 with 1 Axes>"
      ]
     },
     "metadata": {
      "needs_background": "light"
     },
     "output_type": "display_data"
    }
   ],
   "source": [
    "import matplotlib.pyplot as plt\n",
    "\n",
    "from plotting import plot_histograms\n",
    "\n",
    "plot_histograms([true_aDM_s, inv_darmois_aDM_s],\n",
    "               ['True', 'Inverse Darmois'],\n",
    "               'aDM')\n",
    "\n",
    "print(np.max(true_aDM_s))\n",
    "print(np.max(inv_darmois_aDM_s))"
   ]
  },
  {
   "cell_type": "markdown",
   "metadata": {},
   "source": [
    "### **Problem: Does not appear to be the case that aDM is higher for Darmois than true function!**\n",
    "\n",
    "In 2d and with our own peculiar mixing this happens only $\\sim 30 \\%$ of the cases.\n",
    "\n",
    "Why?\n",
    "\n",
    "- Artifact of lower dimension, disappears for $D>2$?\n",
    "- Artifact of simple mixing, disappears for more nonlinear ones?\n",
    "\n",
    "Investigate!"
   ]
  },
  {
   "cell_type": "markdown",
   "metadata": {},
   "source": [
    "**1d)** Is the metric invariant to scalar reparametrisation? \n",
    "\n",
    "That is, for any $(p(\\mathbf{s}), \\mathbf{f})$ and $(p(\\tilde{\\mathbf{s}}), \\tilde{\\mathbf{f}})$, with $\\tilde{\\mathbf{s}}=\\mathbf{h}^{-1}(\\mathbf{s})$ and $\\tilde{\\mathbf{f}}=\\mathbf{f}\\circ\\mathbf{h}$, where $\\mathbf{h}(\\mathbf{s})$ is a component-wise invertible nonlinearity $\\mathbf{h}(\\mathbf{s})=[h_1(s_1), ..., h_n(s_n)]$, it must hold\n",
    "\n",
    "$$\\text{aDM}(p(\\mathbf{s}), \\mathbf{f}) = \\text{aDM}(p(\\tilde{\\mathbf{s}}), \\tilde{\\mathbf{f}}) $$"
   ]
  },
  {
   "cell_type": "code",
   "execution_count": 11,
   "metadata": {},
   "outputs": [],
   "source": [
    "# N:=Number of samples\n",
    "N = 6000\n",
    "# D:=Number of dimensions\n",
    "Dims = [2]#, 10, 20, 30, 50]"
   ]
  },
  {
   "cell_type": "code",
   "execution_count": 12,
   "metadata": {},
   "outputs": [],
   "source": [
    "# True mixing\n",
    "from mixing_functions import f_g_unl, f_lin\n",
    "\n",
    "\n",
    "from scipy.stats import ortho_group\n",
    "\n",
    "reps = 3*10**2\n",
    "\n",
    "# Accumulate metric values for histograms\n",
    "true_aDM_s_lin = onp.zeros((reps, len(Dims)))\n",
    "true_aDM_s_unl = onp.zeros((reps, len(Dims)))"
   ]
  },
  {
   "cell_type": "code",
   "execution_count": 13,
   "metadata": {},
   "outputs": [
    {
     "name": "stdout",
     "output_type": "stream",
     "text": [
      "Dimension = 2\n"
     ]
    }
   ],
   "source": [
    "# How many times do we \"spot\" the Darmois construction?\n",
    "# positive = onp.zeros(len(Dims))\n",
    "\n",
    "for idx, Dim in enumerate(Dims):\n",
    "    # Generate the samples\n",
    "    S = random.uniform(key, shape=(N, Dim), minval=0.0, maxval=1.0)\n",
    "    S_normal = special.erfinv(S*2.0-1.0)\n",
    "    for i in range(reps):\n",
    "\n",
    "        # Generate mixing\n",
    "        A = random.multivariate_normal(key, mean=np.zeros(Dim*Dim), cov=np.eye(Dim*Dim)).reshape(Dim,Dim)\n",
    "#         A = ortho_group.rvs(dim=Dim)\n",
    "\n",
    "        # Linear mixing      \n",
    "        f, _ = f_lin(A)\n",
    "        f_batched = vmap(f)\n",
    "\n",
    "        # Compute the batched Jacobian\n",
    "        Jf = jacfwd(f)\n",
    "        Jf_batched = vmap(Jf)\n",
    "        # Compute aDM\n",
    "        # NOTE THAT THIS HAS TO BE APPLIED TO S_normal\n",
    "        true_aDM_lin = aDM(Jf_batched, S_normal)\n",
    "\n",
    "\n",
    "        # Nonlinear mixing (uniform to normal then linearly mixed)\n",
    "        f, _ = f_g_unl(A)\n",
    "        f_batched = vmap(f)\n",
    "    \n",
    "        # Compute the batched Jacobian\n",
    "        Jf = jacfwd(f)\n",
    "        Jf_batched = vmap(Jf)\n",
    "        # Compute aDM\n",
    "        # NOTE THAT THIS HAS TO BE APPLIED TO THE UNIFORM R.V.'s S\n",
    "        true_aDM_unl = aDM(Jf_batched, S)\n",
    "        \n",
    "        # Update random key\n",
    "        key+=1\n",
    "\n",
    "        true_aDM_s_lin[i, idx] = true_aDM_lin\n",
    "        true_aDM_s_unl[i, idx] = true_aDM_unl\n",
    "        \n",
    "    print(\"Dimension =\", Dim)"
   ]
  },
  {
   "cell_type": "code",
   "execution_count": 14,
   "metadata": {},
   "outputs": [
    {
     "name": "stdout",
     "output_type": "stream",
     "text": [
      "5.121138\n"
     ]
    },
    {
     "data": {
      "image/png": "[encoded data removed]",
      "text/plain": [
       "<Figure size 432x288 with 1 Axes>"
      ]
     },
     "metadata": {
      "needs_background": "light"
     },
     "output_type": "display_data"
    }
   ],
   "source": [
    "hist_values = [true_aDM_s_lin[:, i] for i in range(len(Dims))]\n",
    "labels = [str(a)+\"-d data\" for a in Dims]\n",
    "\n",
    "plot_histograms(hist_values,\n",
    "               labels,\n",
    "               'aDM')\n",
    "\n",
    "print(np.max(true_aDM_s_lin))"
   ]
  },
  {
   "cell_type": "code",
   "execution_count": 15,
   "metadata": {},
   "outputs": [
    {
     "name": "stdout",
     "output_type": "stream",
     "text": [
      "5.121136\n"
     ]
    },
    {
     "data": {
      "image/png": "[encoded data removed]",
      "text/plain": [
       "<Figure size 432x288 with 1 Axes>"
      ]
     },
     "metadata": {
      "needs_background": "light"
     },
     "output_type": "display_data"
    }
   ],
   "source": [
    "hist_values = [true_aDM_s_unl[:, i] for i in range(len(Dims))]\n",
    "labels = [str(a)+\"-d data\" for a in Dims]\n",
    "\n",
    "plot_histograms(hist_values,\n",
    "               labels,\n",
    "               'aDM')\n",
    "\n",
    "\n",
    "print(np.max(true_aDM_s_unl))"
   ]
  },
  {
   "cell_type": "markdown",
   "metadata": {},
   "source": [
    "The histograms appear to be the same."
   ]
  },
  {
   "cell_type": "code",
   "execution_count": 16,
   "metadata": {},
   "outputs": [
    {
     "data": {
      "text/plain": [
       "DeviceArray(1.9073486e-06, dtype=float32)"
      ]
     },
     "execution_count": 16,
     "metadata": {},
     "output_type": "execute_result"
    }
   ],
   "source": [
    "np.max(np.abs(true_aDM_s_lin-true_aDM_s_unl))"
   ]
  },
  {
   "cell_type": "markdown",
   "metadata": {},
   "source": [
    "Also pointwise, the values seem to differ at most by a very small value (hopefully numerical error?)"
   ]
  },
  {
   "cell_type": "markdown",
   "metadata": {},
   "source": [
    "**1e)** Is the metric =0 for conformal mappings?"
   ]
  },
  {
   "cell_type": "code",
   "execution_count": 17,
   "metadata": {},
   "outputs": [],
   "source": [
    "# How can I generate a random conformal mapping? See link below?\n",
    "# https://pypi.org/project/confmap/"
   ]
  },
  {
   "cell_type": "code",
   "execution_count": 18,
   "metadata": {},
   "outputs": [],
   "source": [
    "# Or maybe \n",
    "# https://github.com/AndrewWalker/cmtoolkit"
   ]
  },
  {
   "cell_type": "code",
   "execution_count": 19,
   "metadata": {},
   "outputs": [],
   "source": [
    "# Or even simpler, I can generate a\n",
    "# fully connected MLP where all of the matrices are orthogonal; but that alone \n",
    "# is insufficient, in fact beware of:\n",
    "\n",
    "# https://arxiv.org/pdf/2011.13831.pdf\n",
    "\n",
    "# Pierre only refers to _linear_ neural networks (no nonlinearity among the layers).\n",
    "\n",
    "# \"The Jacobian at each point is a _positive scalar_ times a rotation matrix\"\n",
    "\n",
    "# Jacobian of the composition = product of the Jacobians;\n",
    "# How can I implement this with a neural network;\n",
    "# Maybe does not work because with a scalar nonlinearity it is not a _positive scalar_, rather a diagonal matrix\n",
    "# You _can_ however have a point-wise multiplication times a scalar."
   ]
  },
  {
   "cell_type": "markdown",
   "metadata": {},
   "source": [
    "#### How to test this?\n",
    "#### A possibility is to exploit Liouville theorem\n",
    "#### And check that the resulting transformation is indeed conformal\n",
    "\n",
    "https://en.wikipedia.org/wiki/Conformal_map\n",
    "\n",
    "> Any conformal map on a portion of Euclidean space **of dimension three or greater** can be composed from three types of transformations: a homothety, an isometry, and a special conformal transformation.\n",
    "\n",
    "The idea here being that homothety + isometry is maybe not exhaustive of all possible conformal maps but can already represent a few.\n",
    "\n",
    "Hopefully also in 2d."
   ]
  },
  {
   "cell_type": "code",
   "execution_count": 41,
   "metadata": {},
   "outputs": [],
   "source": [
    "def build_conformal_map(lambd, R_theta, s):\n",
    "    \n",
    "    def conformal_map(x):\n",
    "        y = x - s\n",
    "        y *= lambd\n",
    "        return R_theta @ y\n",
    "    \n",
    "    def conformal_map_gridplot(x, y):\n",
    "        x -= s[0]\n",
    "        y -= s[1]\n",
    "        x *= lambd \n",
    "        y *= lambd \n",
    "        return R_theta[0][0]*x + R_theta[0][1]*y, R_theta[1][0]*x + R_theta[1][1]*y\n",
    "    \n",
    "    return conformal_map, conformal_map_gridplot"
   ]
  },
  {
   "cell_type": "code",
   "execution_count": 42,
   "metadata": {},
   "outputs": [],
   "source": [
    "lambd = 2.0\n",
    "\n",
    "s_star = np.array([2.0, -3.5])\n",
    "\n",
    "theta = np.radians(30)\n",
    "c, s = np.cos(theta), np.sin(theta)\n",
    "R_theta = np.array(((c, -s), (s, c)))\n",
    "\n",
    "conformal_map, conformal_map_gridplot = build_conformal_map(lambd, R_theta, s_star)"
   ]
  },
  {
   "cell_type": "code",
   "execution_count": null,
   "metadata": {},
   "outputs": [],
   "source": []
  },
  {
   "cell_type": "code",
   "execution_count": 43,
   "metadata": {},
   "outputs": [],
   "source": [
    "conformal_map(np.array([0.0, 0.0]))\n",
    "\n",
    "conformal_map_batched = vmap(conformal_map)"
   ]
  },
  {
   "cell_type": "code",
   "execution_count": 44,
   "metadata": {},
   "outputs": [],
   "source": [
    "X_conf = conformal_map_batched(S)"
   ]
  },
  {
   "cell_type": "code",
   "execution_count": 45,
   "metadata": {},
   "outputs": [
    {
     "data": {
      "image/png": "[encoded data removed]",
      "text/plain": [
       "<Figure size 432x288 with 1 Axes>"
      ]
     },
     "metadata": {
      "needs_background": "light"
     },
     "output_type": "display_data"
    }
   ],
   "source": [
    "from plotting import scatterplot_variables\n",
    "\n",
    "scatterplot_variables(X_conf, \"Conformal map\")"
   ]
  },
  {
   "cell_type": "code",
   "execution_count": 48,
   "metadata": {},
   "outputs": [
    {
     "data": {
      "text/plain": [
       "DeviceArray([-6.964102 ,  4.0621777], dtype=float32)"
      ]
     },
     "execution_count": 48,
     "metadata": {},
     "output_type": "execute_result"
    }
   ],
   "source": [
    "conformal_map(np.array([0.0, 0.0]))"
   ]
  },
  {
   "cell_type": "code",
   "execution_count": 49,
   "metadata": {},
   "outputs": [
    {
     "data": {
      "image/png": "[encoded data removed]",
      "text/plain": [
       "<Figure size 432x288 with 1 Axes>"
      ]
     },
     "metadata": {
      "needs_background": "light"
     },
     "output_type": "display_data"
    }
   ],
   "source": [
    "from plotting import show_grid_plot\n",
    "\n",
    "# show_grid_plot(conformal_map)#, multi_argument=False)\n",
    "show_grid_plot(conformal_map_gridplot, multi_argument=True)"
   ]
  },
  {
   "cell_type": "code",
   "execution_count": null,
   "metadata": {},
   "outputs": [],
   "source": []
  },
  {
   "cell_type": "code",
   "execution_count": 50,
   "metadata": {},
   "outputs": [],
   "source": [
    "Jconformal_map = jacfwd(conformal_map)"
   ]
  },
  {
   "cell_type": "code",
   "execution_count": 51,
   "metadata": {},
   "outputs": [],
   "source": [
    "Jconformal_map_batched = vmap(Jconformal_map)"
   ]
  },
  {
   "cell_type": "code",
   "execution_count": 52,
   "metadata": {},
   "outputs": [
    {
     "data": {
      "text/plain": [
       "DeviceArray(0., dtype=float32)"
      ]
     },
     "execution_count": 52,
     "metadata": {},
     "output_type": "execute_result"
    }
   ],
   "source": [
    "aDM(Jconformal_map_batched, S)"
   ]
  },
  {
   "cell_type": "code",
   "execution_count": null,
   "metadata": {},
   "outputs": [],
   "source": []
  }
 ],
 "metadata": {
  "kernelspec": {
   "display_name": "Python 3",
   "language": "python",
   "name": "python3"
  },
  "language_info": {
   "codemirror_mode": {
    "name": "ipython",
    "version": 3
   },
   "file_extension": ".py",
   "mimetype": "text/x-python",
   "name": "python",
   "nbconvert_exporter": "python",
   "pygments_lexer": "ipython3",
   "version": "3.8.5"
  }
 },
 "nbformat": 4,
 "nbformat_minor": 4
}
