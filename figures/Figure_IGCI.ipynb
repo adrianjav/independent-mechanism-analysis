{
 "cells": [
  {
   "cell_type": "code",
   "execution_count": 1,
   "metadata": {},
   "outputs": [],
   "source": [
    "from jax import numpy as np\n",
    "from jax import random"
   ]
  },
  {
   "cell_type": "code",
   "execution_count": 2,
   "metadata": {},
   "outputs": [
    {
     "name": "stderr",
     "output_type": "stream",
     "text": [
      "WARNING:absl:No GPU/TPU found, falling back to CPU. (Set TF_CPP_MIN_LOG_LEVEL=0 and rerun for more info.)\n"
     ]
    }
   ],
   "source": [
    "key = random.PRNGKey(0)"
   ]
  },
  {
   "cell_type": "markdown",
   "metadata": {},
   "source": [
    "Generate a mixture of Gaussians"
   ]
  },
  {
   "cell_type": "code",
   "execution_count": 3,
   "metadata": {},
   "outputs": [],
   "source": [
    "key+=1\n",
    "\n",
    "# How many centroids\n",
    "n_centroids = 7\n",
    "\n",
    "\n",
    "# define mean and variances of two Gaussians\n",
    "m = random.cauchy(key, shape=(n_centroids, ))\n",
    "\n",
    "s = random.gamma(key, a=3.0, shape=(n_centroids,))\n",
    "s = 1/s\n",
    "# m1 = -5.0; s1 = 1.5\n",
    "# m2 = 2.0; s2 = 1.1\n",
    "# m3 = 7.0; s3 = 1.3"
   ]
  },
  {
   "cell_type": "code",
   "execution_count": 4,
   "metadata": {},
   "outputs": [],
   "source": [
    "# also define the weights\n",
    "w = random.gamma(key, a=2.0, shape=(n_centroids,))# random positive variable\n",
    "w/= np.sum(w) #normalize to 1\n",
    "\n",
    "# number of samples\n",
    "n_samples = 100000"
   ]
  },
  {
   "cell_type": "code",
   "execution_count": 5,
   "metadata": {},
   "outputs": [
    {
     "data": {
      "text/plain": [
       "DeviceArray([0.20022635, 0.22246024, 0.14083326, 0.01169012, 0.1802715 ,\n",
       "             0.17816254, 0.06635594], dtype=float32)"
      ]
     },
     "execution_count": 5,
     "metadata": {},
     "output_type": "execute_result"
    }
   ],
   "source": [
    "w"
   ]
  },
  {
   "cell_type": "code",
   "execution_count": 6,
   "metadata": {},
   "outputs": [],
   "source": [
    "w = np.array([1 for i in range(n_centroids)])\n",
    "w/= np.sum(w)"
   ]
  },
  {
   "cell_type": "code",
   "execution_count": 7,
   "metadata": {},
   "outputs": [
    {
     "name": "stdout",
     "output_type": "stream",
     "text": [
      "[0.6865938  0.6718145  0.73764986 1.1623713  0.7015589  0.70325065\n",
      " 0.85518295]\n"
     ]
    }
   ],
   "source": [
    "s = np.sqrt(s)\n",
    "s = np.sqrt(s)\n",
    "print(s)"
   ]
  },
  {
   "cell_type": "code",
   "execution_count": 8,
   "metadata": {},
   "outputs": [
    {
     "data": {
      "text/plain": [
       "DeviceArray([-2.0656042 ,  3.5624938 , -1.3922215 , -7.929985  ,\n",
       "             -2.0041065 , -0.87387264, -1.0224373 ], dtype=float32)"
      ]
     },
     "execution_count": 8,
     "metadata": {},
     "output_type": "execute_result"
    }
   ],
   "source": [
    "m"
   ]
  },
  {
   "cell_type": "code",
   "execution_count": 9,
   "metadata": {},
   "outputs": [],
   "source": [
    "# Generate some sample data, with proportions given by w1, w2, w3, ...\n",
    "# Effect = np.concatenate(  for i in range(n_centroids))\n",
    "Effect = np.concatenate([m[i] + s[i]*random.normal(key, (int(w[i]*n_samples),)) for i in range(n_centroids)])"
   ]
  },
  {
   "cell_type": "code",
   "execution_count": 10,
   "metadata": {},
   "outputs": [
    {
     "data": {
      "image/png": "[encoded data removed]",
      "text/plain": [
       "<Figure size 432x288 with 1 Axes>"
      ]
     },
     "metadata": {
      "needs_background": "light"
     },
     "output_type": "display_data"
    }
   ],
   "source": [
    "# plot histogram\n",
    "import matplotlib.pyplot as plt\n",
    "plt.hist(Effect, bins=50)\n",
    "plt.show()"
   ]
  },
  {
   "cell_type": "code",
   "execution_count": 11,
   "metadata": {},
   "outputs": [
    {
     "data": {
      "text/plain": [
       "(99995,)"
      ]
     },
     "execution_count": 11,
     "metadata": {},
     "output_type": "execute_result"
    }
   ],
   "source": [
    "Effect.shape"
   ]
  },
  {
   "cell_type": "code",
   "execution_count": 12,
   "metadata": {},
   "outputs": [],
   "source": [
    "# Sort the values and normalize them between 0 and 1"
   ]
  },
  {
   "cell_type": "code",
   "execution_count": 13,
   "metadata": {},
   "outputs": [],
   "source": [
    "Effect = np.sort(Effect)\n",
    "Effect-=np.min(Effect)\n",
    "Effect/=np.max(Effect)"
   ]
  },
  {
   "cell_type": "code",
   "execution_count": 14,
   "metadata": {},
   "outputs": [
    {
     "name": "stdout",
     "output_type": "stream",
     "text": [
      "0.0\n",
      "1.0\n"
     ]
    }
   ],
   "source": [
    "print(np.min(Effect))\n",
    "print(np.max(Effect))"
   ]
  },
  {
   "cell_type": "code",
   "execution_count": 15,
   "metadata": {},
   "outputs": [],
   "source": [
    "# Compute the empirical CDF"
   ]
  },
  {
   "cell_type": "code",
   "execution_count": 16,
   "metadata": {},
   "outputs": [],
   "source": [
    "from statsmodels.distributions.empirical_distribution import ECDF"
   ]
  },
  {
   "cell_type": "code",
   "execution_count": 17,
   "metadata": {},
   "outputs": [],
   "source": [
    "ecdf = ECDF(Effect)"
   ]
  },
  {
   "cell_type": "code",
   "execution_count": 18,
   "metadata": {},
   "outputs": [],
   "source": [
    "Cause = ecdf(Effect)"
   ]
  },
  {
   "cell_type": "markdown",
   "metadata": {},
   "source": [
    "\n",
    "Make x-y plot, also showing the densities.\n",
    "\n",
    "Reference: https://matplotlib.org/stable/gallery/lines_bars_and_markers/scatter_hist.html"
   ]
  },
  {
   "cell_type": "code",
   "execution_count": 19,
   "metadata": {},
   "outputs": [],
   "source": [
    "# import numpy as np\n",
    "import matplotlib.pyplot as plt\n",
    "from scipy import stats\n",
    "\n",
    "# Fixing random state for reproducibility\n",
    "# np.random.seed(19680801)\n",
    "\n",
    "# Cause in the x-axis, Effect in the y-axis\n",
    "x = Cause\n",
    "y = Effect\n",
    "\n",
    "# Add Kernel Density Estimation for smoother densities on x and y\n",
    "kde_x = stats.gaussian_kde(x)\n",
    "kde_y = stats.gaussian_kde(y)\n",
    "\n",
    "xx = np.linspace(0, 1, 1000)"
   ]
  },
  {
   "cell_type": "code",
   "execution_count": 20,
   "metadata": {},
   "outputs": [],
   "source": [
    "import seaborn as sns\n",
    "sns.set_style(\"white\")\n",
    "# sns.axes_style(\"ticks\")\n",
    "# sns.axes_style(\"whitegrid\")"
   ]
  },
  {
   "cell_type": "code",
   "execution_count": 21,
   "metadata": {},
   "outputs": [],
   "source": [
    "import os"
   ]
  },
  {
   "cell_type": "code",
   "execution_count": 22,
   "metadata": {},
   "outputs": [],
   "source": [
    "figure_path = \"/Users/luigigresele/Documents/Plots_IMA\""
   ]
  },
  {
   "cell_type": "code",
   "execution_count": 23,
   "metadata": {},
   "outputs": [],
   "source": [
    "from matplotlib.ticker import MaxNLocator"
   ]
  },
  {
   "cell_type": "code",
   "execution_count": 24,
   "metadata": {},
   "outputs": [
    {
     "data": {
      "image/png": "[encoded data removed]",
      "text/plain": [
       "<Figure size 576x576 with 3 Axes>"
      ]
     },
     "metadata": {},
     "output_type": "display_data"
    }
   ],
   "source": [
    "# definitions for the axes\n",
    "left = 0.4\n",
    "bottom = 0.4\n",
    "\n",
    "# Width and height of the x-y plot\n",
    "width, height = 1.0, 0.65\n",
    "\n",
    "# Spacing between the axes of the x-y plot and the histograms:\n",
    "spacing = 0.03\n",
    "\n",
    "\n",
    "rect_scatter = [left, bottom, width, height]\n",
    "\n",
    "# Distance from axes\n",
    "distance = 0.23\n",
    "# rect_histx = [left, bottom + height + spacing, width, 0.15]\n",
    "# rect_histy = [left + width + spacing, bottom, 0.15, height]\n",
    "rect_histx = [left, bottom - distance - spacing, width, 0.15]\n",
    "rect_histy = [left - distance - spacing, bottom, 0.15, height]\n",
    "\n",
    "\n",
    "# start with a rectangular Figure\n",
    "plt.figure(figsize=(8, 8))\n",
    "\n",
    "with sns.axes_style(\"whitegrid\"):\n",
    "    ax_scatter = plt.axes(rect_scatter)\n",
    "        # Move left y-axis and bottim x-axis to centre, passing through (0,0)\n",
    "    ax_scatter.spines['left'].set_position('zero')\n",
    "    ax_scatter.spines['bottom'].set_position('zero')\n",
    "    plt.gca().xaxis.set_major_locator(MaxNLocator(prune='lower'))\n",
    "ax_scatter.tick_params(direction='in', top=True, right=True, labelsize=15)\n",
    "ax_histx = plt.axes(rect_histx)\n",
    "ax_histx.tick_params(direction='in', labelbottom=False)\n",
    "with sns.axes_style(\"whitegrid\"):\n",
    "    ax_histy = plt.axes(rect_histy)\n",
    "\n",
    "ax_histy.yaxis.grid(True) # Hide the horizontal gridlines\n",
    "ax_histy.xaxis.grid(False) # Show the vertical gridlines\n",
    "\n",
    "ax_histy.tick_params(direction='in', labelleft=False)\n",
    "\n",
    "# the scatter plot:\n",
    "# ax_scatter.scatter(x, y)\n",
    "with sns.axes_style(\"whitegrid\"):\n",
    "    ax_scatter.plot(x, y)\n",
    "\n",
    "# now determine nice limits by hand:\n",
    "binwidth = 0.01\n",
    "lim = 1#np.ceil(np.abs([x, y]).max() / binwidth) * binwidth\n",
    "ax_scatter.set_xlim((0, 1))\n",
    "ax_scatter.set_ylim((0, 1))\n",
    "\n",
    "bins = np.arange(0, 1+binwidth, binwidth)\n",
    "ax_histx.hist(x, bins=bins, density=True, alpha=0.3)\n",
    "# Add KDE plot of the density for x\n",
    "ax_histx.plot(xx, kde_x(xx), color='C0')\n",
    "ax_histy.hist(y, bins=bins, orientation='horizontal', density=True, alpha=0.3)\n",
    "# Add KDE plot of the density for y\n",
    "ax_histy.plot(kde_y(xx), xx, color='C0')\n",
    "\n",
    "ax_histx.set_xlim(ax_scatter.get_xlim())\n",
    "ax_histy.set_ylim(ax_scatter.get_ylim())\n",
    "\n",
    "plt.savefig(os.path.join(figure_path, 'IGCI_plot'), dpi=None, facecolor='w', edgecolor='w',\n",
    "            orientation='portrait', format=None,\n",
    "            transparent=True, bbox_inches='tight', pad_inches=0.1, metadata=None)\n",
    "\n",
    "plt.show()"
   ]
  }
 ],
 "metadata": {
  "kernelspec": {
   "display_name": "Python 3",
   "language": "python",
   "name": "python3"
  },
  "language_info": {
   "codemirror_mode": {
    "name": "ipython",
    "version": 3
   },
   "file_extension": ".py",
   "mimetype": "text/x-python",
   "name": "python",
   "nbconvert_exporter": "python",
   "pygments_lexer": "ipython3",
   "version": "3.8.5"
  }
 },
 "nbformat": 4,
 "nbformat_minor": 4
}
