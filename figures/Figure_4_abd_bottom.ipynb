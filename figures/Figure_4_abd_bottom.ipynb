{
 "cells": [
  {
   "cell_type": "markdown",
   "id": "7313b6e5",
   "metadata": {},
   "source": [
    "# Plots of results of Darmois construction"
   ]
  },
  {
   "cell_type": "code",
   "execution_count": null,
   "id": "9a3601e9",
   "metadata": {},
   "outputs": [],
   "source": [
    "import numpy as np\n",
    "from matplotlib import pyplot as plt"
   ]
  },
  {
   "cell_type": "markdown",
   "id": "8c3eca9c",
   "metadata": {},
   "source": [
    "## Histogram of 2D case"
   ]
  },
  {
   "cell_type": "code",
   "execution_count": null,
   "id": "236db8a4",
   "metadata": {},
   "outputs": [],
   "source": [
    "m = []\n",
    "ind = 70\n",
    "for i in range(1000):\n",
    "    d = np.loadtxt('/draco/u/vstimper/projects/ica-flows/experiments/triresflow/2d/%04i/log/cima_test.csv' %i,\n",
    "                    skiprows=1, delimiter=',')\n",
    "    l = np.loadtxt('/draco/u/vstimper/projects/ica-flows/experiments/triresflow/2d/%04i/log/kld_train.csv' %i,\n",
    "                    skiprows=1, delimiter=',')\n",
    "    m = m + [d[ind + np.argmin(l[ind:, 1]), 1]]\n",
    "m = np.array(m)"
   ]
  },
  {
   "cell_type": "code",
   "execution_count": null,
   "id": "0a04cd07",
   "metadata": {},
   "outputs": [],
   "source": [
    "plt.figure(figsize=(8, 7))\n",
    "plt.hist(m, bins=60, range=[0, .4], color='#1A85FF')\n",
    "plt.xlim([0, 0.4])\n",
    "plt.locator_params(axis='x', nbins=4)\n",
    "plt.xticks(fontsize=24)\n",
    "plt.yticks([20, 40, 60, 80], fontsize=24)\n",
    "plt.xlabel('$c_{IMA}$', fontsize=28)\n",
    "plt.ylabel('Number of models', fontsize=28)\n",
    "plt.tight_layout()\n",
    "plt.savefig('/draco/u/vstimper/projects/ica-flows/plots/trires/2d/hist.pdf')\n",
    "plt.show()"
   ]
  },
  {
   "cell_type": "markdown",
   "id": "55adb048",
   "metadata": {},
   "source": [
    "## Violin plot of $c_{IMA}$ over number of dimensions"
   ]
  },
  {
   "cell_type": "code",
   "execution_count": null,
   "id": "0e1a8fc2",
   "metadata": {},
   "outputs": [],
   "source": [
    "cima = []\n",
    "ind = 100\n",
    "for i in [3, 5, 10]:\n",
    "    cima_tmp = []\n",
    "    for j in range(50):\n",
    "        d = np.loadtxt('/draco/u/vstimper/projects/ica-flows/experiments/triresflow/%id/%04i/log/cima_test.csv' % (i, j),\n",
    "                        skiprows=1, delimiter=',')\n",
    "        l = np.loadtxt('/draco/u/vstimper/projects/ica-flows/experiments/triresflow/%id/%04i/log/kld_train.csv' % (i, j),\n",
    "                        skiprows=1, delimiter=',')\n",
    "        cima_tmp = cima_tmp + [d[ind + np.argmin(l[ind:, 1]), 1]]\n",
    "    cima_tmp = np.array(cima_tmp)\n",
    "    cima += [cima_tmp[~np.isnan(cima_tmp)]]"
   ]
  },
  {
   "cell_type": "code",
   "execution_count": null,
   "id": "9c6916bd",
   "metadata": {},
   "outputs": [],
   "source": [
    "cima = [m[~np.isnan(m)]] + cima"
   ]
  },
  {
   "cell_type": "code",
   "execution_count": null,
   "id": "121177ec",
   "metadata": {},
   "outputs": [],
   "source": [
    "plt.figure(figsize=(8, 7))\n",
    "plt.boxplot(cima, ['2', '3', '5', '10'])\n",
    "plt.xticks(fontsize=24)\n",
    "plt.yticks(fontsize=24)\n",
    "plt.ylabel('$c_{IMA}$', fontsize=28)\n",
    "plt.xlabel('Number of dimensions', fontsize=28)\n",
    "plt.tight_layout()\n",
    "plt.savefig('/draco/u/vstimper/projects/ica-flows/plots/trires/nd/boxplot.pdf')\n",
    "plt.show()"
   ]
  },
  {
   "cell_type": "code",
   "execution_count": null,
   "id": "2ffef3bd",
   "metadata": {},
   "outputs": [],
   "source": [
    "plt.figure(figsize=(8, 7))\n",
    "vp = plt.violinplot(cima, [1, 2, 3, 4], showmedians=True)\n",
    "plt.xticks([1, 2, 3, 4], [2, 3, 5, 10], fontsize=24)\n",
    "plt.yticks(fontsize=24)\n",
    "plt.ylabel('$c_{IMA}$', fontsize=28)\n",
    "plt.ylim([0, 1.5])\n",
    "plt.xlabel('Number of dimensions', fontsize=28)\n",
    "for el in vp['bodies']:\n",
    "    el.set_facecolor('#1A85FF')\n",
    "    el.set_edgecolor('black')\n",
    "    el.set_linewidth(1.5)\n",
    "    el.set_alpha(.9)\n",
    "for pn in ['cbars', 'cmins', 'cmaxes', 'cmedians']:\n",
    "    vp_ = vp[pn]\n",
    "    vp_.set_edgecolor('black')\n",
    "    vp_.set_linewidth(3)\n",
    "plt.tight_layout()\n",
    "plt.savefig('/draco/u/vstimper/projects/ica-flows/plots/trires/nd/violinplot.pdf')\n",
    "plt.show()"
   ]
  },
  {
   "cell_type": "markdown",
   "id": "7f7fe27c",
   "metadata": {},
   "source": [
    "## MPA "
   ]
  },
  {
   "cell_type": "code",
   "execution_count": null,
   "id": "e036f68d",
   "metadata": {},
   "outputs": [],
   "source": [
    "cima_mpa = np.load('/draco/u/vstimper/projects/ica-flows/plots/trires/mpa/cima_mpa_0308.npy')\n",
    "cima_darmois = np.load('/draco/u/vstimper/projects/ica-flows/plots/trires/mpa/cima_darmois_mpa_0308.npy')\n",
    "\n",
    "plt.figure(figsize=(8, 7))\n",
    "x = np.linspace(0, 2 * np.pi, len(cima_mpa))\n",
    "l1, = plt.plot(x, cima_mpa, color='#1A85FF', linewidth=5)\n",
    "l2, = plt.plot(x, cima_darmois, '--', color='#D41159', linewidth=5)\n",
    "plt.xticks(np.arange(0, 2*np.pi+0.01, np.pi/2),\n",
    "           ['$0$', r'$\\pi/2$', r'$\\pi$', r'$3\\pi/2$', r'$2\\pi$'], \n",
    "           fontsize=24)\n",
    "plt.yticks(fontsize=24)\n",
    "plt.locator_params(axis='y', nbins=4)\n",
    "plt.xlabel(r'$\\theta\\,(rad)$', fontsize=28)\n",
    "plt.ylabel(r'$c_{IMA}$', fontsize=28)\n",
    "plt.xlim([0, 2 * np.pi])\n",
    "plt.ylim([0, 0.33])\n",
    "plt.legend([l1, l2], ['MPA', 'Darmois + MPA'], fontsize=24, loc='lower right')\n",
    "plt.tight_layout()\n",
    "plt.savefig('/draco/u/vstimper/projects/ica-flows/plots/trires/mpa/mpa_angle.pdf')\n",
    "plt.show()"
   ]
  },
  {
   "cell_type": "markdown",
   "id": "dd0a650f",
   "metadata": {},
   "source": [
    "## $c_{IMA}$ of models trained on data generated by MLP"
   ]
  },
  {
   "cell_type": "code",
   "execution_count": null,
   "id": "099984e8",
   "metadata": {},
   "outputs": [],
   "source": [
    "cima_model = []\n",
    "cima_mlp = []\n",
    "ind = 70\n",
    "for i in [2, 3, 4]:\n",
    "    cima_model_tmp = []\n",
    "    cima_mlp_tmp = []\n",
    "    for j in range(20):\n",
    "        l = np.loadtxt('/draco/u/vstimper/projects/ica-flows/experiments/triresflow/mlp/%il/%04i/log/log_p_train.csv' % (i, j),\n",
    "                       skiprows=1, delimiter=',')\n",
    "        c = np.loadtxt('/draco/u/vstimper/projects/ica-flows/experiments/triresflow/mlp/%il/%04i/log/cima_test.csv' % (i, j),\n",
    "                       skiprows=1, delimiter=',')\n",
    "        d = np.loadtxt('/draco/u/vstimper/projects/ica-flows/experiments/triresflow/mlp/%il/%04i/log/cima_diff_test.csv' % (i, j),\n",
    "                       skiprows=1, delimiter=',')\n",
    "        ind_cima = ind + np.argmax(l[ind:, 1])\n",
    "        cima_model_tmp += [c[ind_cima, 1]]\n",
    "        cima_mlp_tmp += [-d[ind_cima, 1] + c[ind_cima, 1]]\n",
    "    cima_model_tmp = np.array(cima_model_tmp)\n",
    "    cima_mlp_tmp = np.array(cima_mlp_tmp)\n",
    "    cima_model += [cima_model_tmp[~np.isnan(cima_model_tmp)]]\n",
    "    cima_mlp += [cima_mlp_tmp[~np.isnan(cima_mlp_tmp)]]"
   ]
  },
  {
   "cell_type": "code",
   "execution_count": null,
   "id": "e64a07cb",
   "metadata": {},
   "outputs": [],
   "source": [
    "plt.figure(figsize=(8, 7))\n",
    "vp = plt.violinplot(cima_model, [2, 3, 4], showmedians=True)\n",
    "for el in vp['bodies']:\n",
    "    el.set_facecolor('#1A85FF')\n",
    "    el.set_edgecolor('black')\n",
    "    el.set_linewidth(1.5)\n",
    "    el.set_alpha(.9)\n",
    "for pn in ['cbars', 'cmins', 'cmaxes', 'cmedians']:\n",
    "    vp_ = vp[pn]\n",
    "    vp_.set_edgecolor('black')\n",
    "    vp_.set_linewidth(3)\n",
    "vp__ = vp\n",
    "vp = plt.violinplot(cima_mlp, [2, 3, 4], showmedians=True)\n",
    "for el in vp['bodies']:\n",
    "    el.set_facecolor('#D41159')\n",
    "    el.set_edgecolor('black')\n",
    "    el.set_linewidth(1.5)\n",
    "    el.set_alpha(.9)\n",
    "for pn in ['cbars', 'cmins', 'cmaxes', 'cmedians']:\n",
    "    vp_ = vp[pn]\n",
    "    vp_.set_edgecolor('black')\n",
    "    vp_.set_linewidth(3)\n",
    "plt.xticks([2, 3, 4], fontsize=24)\n",
    "plt.yticks(fontsize=24)\n",
    "plt.ylim([0, 1.33])\n",
    "plt.xlabel('Number of MLP layers', fontsize=28)\n",
    "plt.ylabel('$c_{IMA}$', fontsize=28)\n",
    "plt.legend([vp__['bodies'][0], vp['bodies'][0]], ['Darmois', 'MLP'], fontsize=24, loc='upper left')\n",
    "plt.tight_layout()\n",
    "plt.savefig('/draco/u/vstimper/projects/ica-flows/plots/trires/mlp/darmois_mlp_violin.pdf')\n",
    "plt.show()"
   ]
  },
  {
   "cell_type": "code",
   "execution_count": null,
   "id": "015f1911",
   "metadata": {},
   "outputs": [],
   "source": []
  }
 ],
 "metadata": {
  "kernelspec": {
   "display_name": "Python 3",
   "language": "python",
   "name": "python3"
  },
  "language_info": {
   "codemirror_mode": {
    "name": "ipython",
    "version": 3
   },
   "file_extension": ".py",
   "mimetype": "text/x-python",
   "name": "python",
   "nbconvert_exporter": "python",
   "pygments_lexer": "ipython3",
   "version": "3.8.8"
  }
 },
 "nbformat": 4,
 "nbformat_minor": 5
}
