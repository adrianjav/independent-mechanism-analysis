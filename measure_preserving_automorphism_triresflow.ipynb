{
 "cells": [
  {
   "cell_type": "code",
   "execution_count": null,
   "id": "0c5d8aaf",
   "metadata": {},
   "outputs": [],
   "source": [
    "import jax\n",
    "from jax import numpy as jnp\n",
    "import numpy as np\n",
    "import distrax\n",
    "import haiku as hk\n",
    "from residual import TriangularResidual, ConstantScaling\n",
    "from utils import get_config\n",
    "\n",
    "from plotting import cart2pol, scatterplot_variables\n",
    "\n",
    "from mixing_functions import build_moebius_transform, build_automorphism"
   ]
  },
  {
   "cell_type": "code",
   "execution_count": null,
   "id": "6c72873a",
   "metadata": {},
   "outputs": [],
   "source": [
    "model_root = '/draco/u/vstimper/projects/ica-flows/experiments/triresflow/2d/0300/'\n",
    "config = get_config(model_root + 'config/config.yaml')"
   ]
  },
  {
   "cell_type": "code",
   "execution_count": null,
   "id": "7deba11b",
   "metadata": {},
   "outputs": [],
   "source": [
    "S_train = jnp.array(jnp.load(model_root + 'data/sources_train.npy'))\n",
    "S_test = jnp.array(jnp.load(model_root + 'data/sources_test.npy'))\n",
    "X_train = jnp.array(jnp.load(model_root + 'data/observation_train.npy'))\n",
    "X_test = jnp.array(jnp.load(model_root + 'data/observation_test.npy'))\n",
    "mean_std = jnp.load(model_root + 'data/observation_mean_std.npy', allow_pickle=True).item()\n",
    "mean_train, std_train = mean_std['mean'], mean_std['std']\n",
    "moeb_params = jnp.load(model_root + 'data/moebius_transform_params.npy', allow_pickle=True).item()"
   ]
  },
  {
   "cell_type": "code",
   "execution_count": null,
   "id": "97a329bc",
   "metadata": {
    "scrolled": false
   },
   "outputs": [],
   "source": [
    "alpha = 1.0\n",
    "A = jnp.array(moeb_params['A'])\n",
    "a = jnp.array(moeb_params['a'])\n",
    "b = jnp.zeros(2)\n",
    "\n",
    "mixing_moebius, mixing_moebius_inv = build_moebius_transform(alpha, A, a, b, epsilon=2)\n",
    "mixing_batched = jax.vmap(mixing_moebius)"
   ]
  },
  {
   "cell_type": "code",
   "execution_count": null,
   "id": "01423146",
   "metadata": {},
   "outputs": [],
   "source": [
    "_, colors_train = cart2pol(S_train[:, 0], S_train[:, 1])\n",
    "_, colors_test = cart2pol(S_test[:, 0], S_test[:, 1])\n",
    "\n",
    "scatterplot_variables(S_test, 'Sources (test)',\n",
    "                      colors=colors_test, savefig=False, show=True)"
   ]
  },
  {
   "cell_type": "code",
   "execution_count": null,
   "id": "9c2eb05b",
   "metadata": {},
   "outputs": [],
   "source": [
    "params = hk.data_structures.to_immutable_dict(jnp.load(model_root + 'checkpoints/model_100000.npy', allow_pickle=True).item())"
   ]
  },
  {
   "cell_type": "code",
   "execution_count": null,
   "id": "c298edd8",
   "metadata": {},
   "outputs": [],
   "source": [
    "# Setup model\n",
    "n_layers = config['model']['flow_layers']\n",
    "hidden_units = config['model']['nn_layers'] * [config['model']['nn_hidden_units']]\n",
    "\n",
    "def inv_map_fn(x):\n",
    "    flows = distrax.Chain([TriangularResidual(hidden_units + [2], name='residual_' + str(i))\n",
    "                           for i in range(n_layers)] + [ConstantScaling(std_train)])\n",
    "    return flows.inverse(x)\n",
    "\n",
    "def fw_map_fn(x):\n",
    "    flows = distrax.Chain([TriangularResidual(hidden_units + [2], name='residual_' + str(i))\n",
    "                           for i in range(n_layers)] + [ConstantScaling(std_train)])\n",
    "    return flows.forward(x)\n",
    "\n",
    "fw_map = hk.transform(fw_map_fn)\n",
    "inv_map = hk.transform(inv_map_fn)"
   ]
  },
  {
   "cell_type": "code",
   "execution_count": null,
   "id": "60a51f39",
   "metadata": {},
   "outputs": [],
   "source": [
    "S_rec = inv_map.apply(params, None, X_test)\n",
    "S_rec_uni = jnp.column_stack([jax.scipy.stats.norm.cdf(S_rec[:, 0]),\n",
    "                              jax.scipy.stats.norm.cdf(S_rec[:, 1])])\n",
    "S_rec_uni -= 0.5\n",
    "\n",
    "scatterplot_variables(S_rec_uni, 'Reconstructed sources (test)',\n",
    "                      colors=colors_test, savefig=False, show=True)"
   ]
  },
  {
   "cell_type": "code",
   "execution_count": null,
   "id": "392a1276",
   "metadata": {},
   "outputs": [],
   "source": [
    "theta = np.radians(25)\n",
    "c, s = np.cos(theta), np.sin(theta)\n",
    "R = np.array([[c, -s], [s, c]])\n",
    "\n",
    "measure_preserving, measure_preserving_inv = build_automorphism(R)\n",
    "measure_preserving_batched = jax.vmap(measure_preserving)"
   ]
  },
  {
   "cell_type": "code",
   "execution_count": null,
   "id": "f7e0bc0b",
   "metadata": {},
   "outputs": [],
   "source": [
    "S_ = measure_preserving_batched(S_test + 0.5)\n",
    "\n",
    "scatterplot_variables(S_, 'Mapped sources (test)',\n",
    "                      colors=colors_test, savefig=False, show=True)"
   ]
  },
  {
   "cell_type": "code",
   "execution_count": null,
   "id": "fe6d603b",
   "metadata": {},
   "outputs": [],
   "source": [
    "S_rec_uni_ = measure_preserving_batched(S_rec_uni + 0.5)\n",
    "\n",
    "scatterplot_variables(S_rec_uni_, 'Reconstructed sources (test)',\n",
    "                      colors=colors_test, savefig=False, show=True)"
   ]
  },
  {
   "cell_type": "code",
   "execution_count": null,
   "id": "041e0dc6",
   "metadata": {},
   "outputs": [],
   "source": []
  }
 ],
 "metadata": {
  "kernelspec": {
   "display_name": "Python 3",
   "language": "python",
   "name": "python3"
  },
  "language_info": {
   "codemirror_mode": {
    "name": "ipython",
    "version": 3
   },
   "file_extension": ".py",
   "mimetype": "text/x-python",
   "name": "python",
   "nbconvert_exporter": "python",
   "pygments_lexer": "ipython3",
   "version": "3.8.8"
  }
 },
 "nbformat": 4,
 "nbformat_minor": 5
}
